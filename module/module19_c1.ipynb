{
 "cells": [
  {
   "cell_type": "code",
   "execution_count": 1,
   "id": "fcef9755",
   "metadata": {},
   "outputs": [],
   "source": [
    "# Import our dependencies\n",
    "import pandas as pd\n",
    "import matplotlib as plt\n",
    "from sklearn.datasets import make_blobs\n",
    "import sklearn as skl\n",
    "import tensorflow as tf"
   ]
  },
  {
   "cell_type": "code",
   "execution_count": 2,
   "id": "71b28043",
   "metadata": {},
   "outputs": [
    {
     "data": {
      "text/plain": [
       "<AxesSubplot:xlabel='Feature 1', ylabel='Feature 2'>"
      ]
     },
     "execution_count": 2,
     "metadata": {},
     "output_type": "execute_result"
    },
    {
     "data": {
      "image/png": "[encoded data removed]",
      "text/plain": [
       "<Figure size 432x288 with 2 Axes>"
      ]
     },
     "metadata": {
      "needs_background": "light"
     },
     "output_type": "display_data"
    }
   ],
   "source": [
    "# Generate dummy dataset\n",
    "X, y = make_blobs(n_samples=1000, centers=2, n_features=2, random_state=78)\n",
    "\n",
    "# Creating a DataFrame with the dummy data\n",
    "df = pd.DataFrame(X, columns=[\"Feature 1\", \"Feature 2\"])\n",
    "df[\"Target\"] = y\n",
    "\n",
    "# Plotting the dummy data\n",
    "df.plot.scatter(x=\"Feature 1\", y=\"Feature 2\", c=\"Target\", colormap=\"winter\")"
   ]
  },
  {
   "cell_type": "code",
   "execution_count": 3,
   "id": "869b8fd0",
   "metadata": {},
   "outputs": [],
   "source": [
    "# Use sklearn to split dataset\n",
    "from sklearn.model_selection import train_test_split\n",
    "X_train, X_test, y_train, y_test = train_test_split(X, y, random_state=78)"
   ]
  },
  {
   "cell_type": "code",
   "execution_count": 4,
   "id": "5d3b73ff",
   "metadata": {},
   "outputs": [],
   "source": [
    "# Create scaler instance\n",
    "X_scaler = skl.preprocessing.StandardScaler()\n",
    "\n",
    "# Fit the scaler\n",
    "X_scaler.fit(X_train)\n",
    "\n",
    "# Scale the data\n",
    "X_train_scaled = X_scaler.transform(X_train)\n",
    "X_test_scaled = X_scaler.transform(X_test)"
   ]
  },
  {
   "cell_type": "code",
   "execution_count": 5,
   "id": "d05d64ee",
   "metadata": {},
   "outputs": [],
   "source": [
    "# Create the Keras Sequential model\n",
    "nn_model = tf.keras.models.Sequential()"
   ]
  },
  {
   "cell_type": "code",
   "execution_count": 6,
   "id": "500d4e06",
   "metadata": {},
   "outputs": [],
   "source": [
    "# Add our first Dense layer, including the input layer\n",
    "nn_model.add(tf.keras.layers.Dense(units=1, activation=\"relu\", input_dim=2))"
   ]
  },
  {
   "cell_type": "code",
   "execution_count": 7,
   "id": "e0a36620",
   "metadata": {},
   "outputs": [],
   "source": [
    "# Add the output layer that uses a probability activation function\n",
    "nn_model.add(tf.keras.layers.Dense(units=1, activation=\"sigmoid\"))"
   ]
  },
  {
   "cell_type": "code",
   "execution_count": 8,
   "id": "54786429",
   "metadata": {},
   "outputs": [
    {
     "name": "stdout",
     "output_type": "stream",
     "text": [
      "Model: \"sequential\"\n",
      "_________________________________________________________________\n",
      "Layer (type)                 Output Shape              Param #   \n",
      "=================================================================\n",
      "dense (Dense)                (None, 1)                 3         \n",
      "_________________________________________________________________\n",
      "dense_1 (Dense)              (None, 1)                 2         \n",
      "=================================================================\n",
      "Total params: 5\n",
      "Trainable params: 5\n",
      "Non-trainable params: 0\n",
      "_________________________________________________________________\n"
     ]
    }
   ],
   "source": [
    "# Check the structure of the Sequential model\n",
    "nn_model.summary()"
   ]
  },
  {
   "cell_type": "code",
   "execution_count": 9,
   "id": "128d5256",
   "metadata": {},
   "outputs": [],
   "source": [
    "# Compile the Sequential model together and customize metrics\n",
    "nn_model.compile(loss=\"binary_crossentropy\", optimizer=\"adam\", metrics=[\"accuracy\"])"
   ]
  },
  {
   "cell_type": "code",
   "execution_count": 10,
   "id": "b2de6fb4",
   "metadata": {},
   "outputs": [
    {
     "name": "stdout",
     "output_type": "stream",
     "text": [
      "Epoch 1/100\n",
      "24/24 [==============================] - 0s 334us/step - loss: 0.9783 - accuracy: 0.1653\n",
      "Epoch 2/100\n",
      "24/24 [==============================] - 0s 292us/step - loss: 0.9412 - accuracy: 0.1933\n",
      "Epoch 3/100\n",
      "24/24 [==============================] - 0s 292us/step - loss: 0.9078 - accuracy: 0.2267\n",
      "Epoch 4/100\n",
      "24/24 [==============================] - 0s 292us/step - loss: 0.8795 - accuracy: 0.2693\n",
      "Epoch 5/100\n",
      "24/24 [==============================] - 0s 292us/step - loss: 0.8554 - accuracy: 0.2853\n",
      "Epoch 6/100\n",
      "24/24 [==============================] - 0s 334us/step - loss: 0.8347 - accuracy: 0.3093\n",
      "Epoch 7/100\n",
      "24/24 [==============================] - 0s 292us/step - loss: 0.8155 - accuracy: 0.3347\n",
      "Epoch 8/100\n",
      "24/24 [==============================] - 0s 334us/step - loss: 0.7990 - accuracy: 0.3627\n",
      "Epoch 9/100\n",
      "24/24 [==============================] - 0s 334us/step - loss: 0.7847 - accuracy: 0.3827\n",
      "Epoch 10/100\n",
      "24/24 [==============================] - 0s 292us/step - loss: 0.7724 - accuracy: 0.3947\n",
      "Epoch 11/100\n",
      "24/24 [==============================] - 0s 334us/step - loss: 0.7607 - accuracy: 0.4107\n",
      "Epoch 12/100\n",
      "24/24 [==============================] - 0s 292us/step - loss: 0.7504 - accuracy: 0.4293\n",
      "Epoch 13/100\n",
      "24/24 [==============================] - 0s 292us/step - loss: 0.7407 - accuracy: 0.4400\n",
      "Epoch 14/100\n",
      "24/24 [==============================] - 0s 292us/step - loss: 0.7315 - accuracy: 0.4560\n",
      "Epoch 15/100\n",
      "24/24 [==============================] - 0s 292us/step - loss: 0.7231 - accuracy: 0.4733\n",
      "Epoch 16/100\n",
      "24/24 [==============================] - 0s 334us/step - loss: 0.7153 - accuracy: 0.4960\n",
      "Epoch 17/100\n",
      "24/24 [==============================] - 0s 292us/step - loss: 0.7079 - accuracy: 0.5053\n",
      "Epoch 18/100\n",
      "24/24 [==============================] - 0s 292us/step - loss: 0.7006 - accuracy: 0.5200\n",
      "Epoch 19/100\n",
      "24/24 [==============================] - 0s 292us/step - loss: 0.6937 - accuracy: 0.5347\n",
      "Epoch 20/100\n",
      "24/24 [==============================] - 0s 292us/step - loss: 0.6868 - accuracy: 0.5480\n",
      "Epoch 21/100\n",
      "24/24 [==============================] - 0s 334us/step - loss: 0.6799 - accuracy: 0.5587\n",
      "Epoch 22/100\n",
      "24/24 [==============================] - 0s 292us/step - loss: 0.6731 - accuracy: 0.5800\n",
      "Epoch 23/100\n",
      "24/24 [==============================] - 0s 375us/step - loss: 0.6666 - accuracy: 0.5987\n",
      "Epoch 24/100\n",
      "24/24 [==============================] - 0s 334us/step - loss: 0.6599 - accuracy: 0.6147\n",
      "Epoch 25/100\n",
      "24/24 [==============================] - 0s 334us/step - loss: 0.6534 - accuracy: 0.6240\n",
      "Epoch 26/100\n",
      "24/24 [==============================] - 0s 292us/step - loss: 0.6469 - accuracy: 0.6347\n",
      "Epoch 27/100\n",
      "24/24 [==============================] - 0s 334us/step - loss: 0.6404 - accuracy: 0.6440\n",
      "Epoch 28/100\n",
      "24/24 [==============================] - 0s 292us/step - loss: 0.6340 - accuracy: 0.6573\n",
      "Epoch 29/100\n",
      "24/24 [==============================] - 0s 292us/step - loss: 0.6274 - accuracy: 0.6720\n",
      "Epoch 30/100\n",
      "24/24 [==============================] - 0s 292us/step - loss: 0.6206 - accuracy: 0.6813\n",
      "Epoch 31/100\n",
      "24/24 [==============================] - 0s 292us/step - loss: 0.6141 - accuracy: 0.6880\n",
      "Epoch 32/100\n",
      "24/24 [==============================] - 0s 292us/step - loss: 0.6076 - accuracy: 0.6960\n",
      "Epoch 33/100\n",
      "24/24 [==============================] - 0s 334us/step - loss: 0.6011 - accuracy: 0.7080\n",
      "Epoch 34/100\n",
      "24/24 [==============================] - 0s 292us/step - loss: 0.5946 - accuracy: 0.7160\n",
      "Epoch 35/100\n",
      "24/24 [==============================] - 0s 292us/step - loss: 0.5879 - accuracy: 0.7240\n",
      "Epoch 36/100\n",
      "24/24 [==============================] - 0s 292us/step - loss: 0.5814 - accuracy: 0.7293\n",
      "Epoch 37/100\n",
      "24/24 [==============================] - 0s 334us/step - loss: 0.5748 - accuracy: 0.7373\n",
      "Epoch 38/100\n",
      "24/24 [==============================] - 0s 292us/step - loss: 0.5680 - accuracy: 0.7413\n",
      "Epoch 39/100\n",
      "24/24 [==============================] - 0s 292us/step - loss: 0.5613 - accuracy: 0.7467\n",
      "Epoch 40/100\n",
      "24/24 [==============================] - 0s 292us/step - loss: 0.5545 - accuracy: 0.7520\n",
      "Epoch 41/100\n",
      "24/24 [==============================] - 0s 292us/step - loss: 0.5477 - accuracy: 0.7587\n",
      "Epoch 42/100\n",
      "24/24 [==============================] - 0s 292us/step - loss: 0.5409 - accuracy: 0.7667\n",
      "Epoch 43/100\n",
      "24/24 [==============================] - 0s 292us/step - loss: 0.5338 - accuracy: 0.7720\n",
      "Epoch 44/100\n",
      "24/24 [==============================] - 0s 292us/step - loss: 0.5266 - accuracy: 0.7747\n",
      "Epoch 45/100\n",
      "24/24 [==============================] - 0s 292us/step - loss: 0.5194 - accuracy: 0.7827\n",
      "Epoch 46/100\n",
      "24/24 [==============================] - 0s 292us/step - loss: 0.5121 - accuracy: 0.7893\n",
      "Epoch 47/100\n",
      "24/24 [==============================] - 0s 292us/step - loss: 0.5049 - accuracy: 0.7947\n",
      "Epoch 48/100\n",
      "24/24 [==============================] - 0s 292us/step - loss: 0.4976 - accuracy: 0.8000\n",
      "Epoch 49/100\n",
      "24/24 [==============================] - 0s 292us/step - loss: 0.4902 - accuracy: 0.8080\n",
      "Epoch 50/100\n",
      "24/24 [==============================] - 0s 292us/step - loss: 0.4828 - accuracy: 0.8160\n",
      "Epoch 51/100\n",
      "24/24 [==============================] - 0s 334us/step - loss: 0.4753 - accuracy: 0.8213\n",
      "Epoch 52/100\n",
      "24/24 [==============================] - 0s 292us/step - loss: 0.4679 - accuracy: 0.8240\n",
      "Epoch 53/100\n",
      "24/24 [==============================] - 0s 292us/step - loss: 0.4608 - accuracy: 0.8280\n",
      "Epoch 54/100\n",
      "24/24 [==============================] - 0s 334us/step - loss: 0.4536 - accuracy: 0.8360\n",
      "Epoch 55/100\n",
      "24/24 [==============================] - 0s 292us/step - loss: 0.4465 - accuracy: 0.8373\n",
      "Epoch 56/100\n",
      "24/24 [==============================] - 0s 292us/step - loss: 0.4394 - accuracy: 0.8413\n",
      "Epoch 57/100\n",
      "24/24 [==============================] - 0s 292us/step - loss: 0.4321 - accuracy: 0.8493\n",
      "Epoch 58/100\n",
      "24/24 [==============================] - 0s 292us/step - loss: 0.4253 - accuracy: 0.8587\n",
      "Epoch 59/100\n",
      "24/24 [==============================] - 0s 334us/step - loss: 0.4181 - accuracy: 0.8627\n",
      "Epoch 60/100\n",
      "24/24 [==============================] - 0s 292us/step - loss: 0.4111 - accuracy: 0.8627\n",
      "Epoch 61/100\n",
      "24/24 [==============================] - 0s 334us/step - loss: 0.4041 - accuracy: 0.8693\n",
      "Epoch 62/100\n",
      "24/24 [==============================] - 0s 292us/step - loss: 0.3973 - accuracy: 0.8733\n",
      "Epoch 63/100\n",
      "24/24 [==============================] - 0s 292us/step - loss: 0.3905 - accuracy: 0.8800\n",
      "Epoch 64/100\n",
      "24/24 [==============================] - 0s 292us/step - loss: 0.3839 - accuracy: 0.8813\n",
      "Epoch 65/100\n",
      "24/24 [==============================] - 0s 334us/step - loss: 0.3774 - accuracy: 0.8827\n",
      "Epoch 66/100\n",
      "24/24 [==============================] - 0s 292us/step - loss: 0.3709 - accuracy: 0.8853\n",
      "Epoch 67/100\n",
      "24/24 [==============================] - 0s 292us/step - loss: 0.3643 - accuracy: 0.8893\n",
      "Epoch 68/100\n",
      "24/24 [==============================] - 0s 334us/step - loss: 0.3578 - accuracy: 0.8920\n",
      "Epoch 69/100\n",
      "24/24 [==============================] - 0s 292us/step - loss: 0.3513 - accuracy: 0.8960\n",
      "Epoch 70/100\n",
      "24/24 [==============================] - 0s 334us/step - loss: 0.3450 - accuracy: 0.9000\n",
      "Epoch 71/100\n",
      "24/24 [==============================] - 0s 292us/step - loss: 0.3384 - accuracy: 0.9040\n",
      "Epoch 72/100\n",
      "24/24 [==============================] - 0s 292us/step - loss: 0.3320 - accuracy: 0.9040\n",
      "Epoch 73/100\n",
      "24/24 [==============================] - 0s 292us/step - loss: 0.3256 - accuracy: 0.9080\n",
      "Epoch 74/100\n",
      "24/24 [==============================] - 0s 292us/step - loss: 0.3195 - accuracy: 0.9120\n",
      "Epoch 75/100\n",
      "24/24 [==============================] - 0s 292us/step - loss: 0.3133 - accuracy: 0.9200\n",
      "Epoch 76/100\n",
      "24/24 [==============================] - 0s 334us/step - loss: 0.3074 - accuracy: 0.9200\n",
      "Epoch 77/100\n",
      "24/24 [==============================] - 0s 292us/step - loss: 0.3016 - accuracy: 0.9200\n",
      "Epoch 78/100\n",
      "24/24 [==============================] - 0s 292us/step - loss: 0.2959 - accuracy: 0.9213\n",
      "Epoch 79/100\n",
      "24/24 [==============================] - 0s 334us/step - loss: 0.2904 - accuracy: 0.9253\n",
      "Epoch 80/100\n",
      "24/24 [==============================] - 0s 292us/step - loss: 0.2849 - accuracy: 0.9293\n",
      "Epoch 81/100\n"
     ]
    },
    {
     "name": "stdout",
     "output_type": "stream",
     "text": [
      "24/24 [==============================] - 0s 292us/step - loss: 0.2795 - accuracy: 0.9293\n",
      "Epoch 82/100\n",
      "24/24 [==============================] - 0s 334us/step - loss: 0.2742 - accuracy: 0.9293\n",
      "Epoch 83/100\n",
      "24/24 [==============================] - 0s 292us/step - loss: 0.2690 - accuracy: 0.9307\n",
      "Epoch 84/100\n",
      "24/24 [==============================] - 0s 250us/step - loss: 0.2638 - accuracy: 0.9333\n",
      "Epoch 85/100\n",
      "24/24 [==============================] - 0s 292us/step - loss: 0.2586 - accuracy: 0.9387\n",
      "Epoch 86/100\n",
      "24/24 [==============================] - 0s 292us/step - loss: 0.2533 - accuracy: 0.9440\n",
      "Epoch 87/100\n",
      "24/24 [==============================] - 0s 292us/step - loss: 0.2481 - accuracy: 0.9467\n",
      "Epoch 88/100\n",
      "24/24 [==============================] - 0s 292us/step - loss: 0.2430 - accuracy: 0.9467\n",
      "Epoch 89/100\n",
      "24/24 [==============================] - 0s 292us/step - loss: 0.2378 - accuracy: 0.9480\n",
      "Epoch 90/100\n",
      "24/24 [==============================] - 0s 292us/step - loss: 0.2326 - accuracy: 0.9480\n",
      "Epoch 91/100\n",
      "24/24 [==============================] - 0s 292us/step - loss: 0.2274 - accuracy: 0.9507\n",
      "Epoch 92/100\n",
      "24/24 [==============================] - 0s 250us/step - loss: 0.2222 - accuracy: 0.9507\n",
      "Epoch 93/100\n",
      "24/24 [==============================] - 0s 292us/step - loss: 0.2172 - accuracy: 0.9520\n",
      "Epoch 94/100\n",
      "24/24 [==============================] - 0s 292us/step - loss: 0.2121 - accuracy: 0.9520\n",
      "Epoch 95/100\n",
      "24/24 [==============================] - 0s 292us/step - loss: 0.2070 - accuracy: 0.9547\n",
      "Epoch 96/100\n",
      "24/24 [==============================] - 0s 292us/step - loss: 0.2019 - accuracy: 0.9560\n",
      "Epoch 97/100\n",
      "24/24 [==============================] - 0s 292us/step - loss: 0.1970 - accuracy: 0.9600\n",
      "Epoch 98/100\n",
      "24/24 [==============================] - 0s 292us/step - loss: 0.1924 - accuracy: 0.9613\n",
      "Epoch 99/100\n",
      "24/24 [==============================] - 0s 292us/step - loss: 0.1879 - accuracy: 0.9613\n",
      "Epoch 100/100\n",
      "24/24 [==============================] - 0s 292us/step - loss: 0.1835 - accuracy: 0.9627\n"
     ]
    }
   ],
   "source": [
    "# Fit the model to the training data\n",
    "fit_model = nn_model.fit(X_train_scaled, y_train, epochs=100)"
   ]
  },
  {
   "cell_type": "code",
   "execution_count": 11,
   "id": "683d5354",
   "metadata": {},
   "outputs": [
    {
     "data": {
      "text/plain": [
       "<AxesSubplot:>"
      ]
     },
     "execution_count": 11,
     "metadata": {},
     "output_type": "execute_result"
    },
    {
     "data": {
      "image/png": "[encoded data removed]",
      "text/plain": [
       "<Figure size 432x288 with 1 Axes>"
      ]
     },
     "metadata": {
      "needs_background": "light"
     },
     "output_type": "display_data"
    }
   ],
   "source": [
    "# Create a DataFrame containing training history\n",
    "history_df = pd.DataFrame(fit_model.history, index=range(1,len(fit_model.history[\"loss\"])+1))\n",
    "\n",
    "# Plot the loss\n",
    "history_df.plot(y=\"loss\")"
   ]
  },
  {
   "cell_type": "code",
   "execution_count": 12,
   "id": "ee2846e4",
   "metadata": {},
   "outputs": [
    {
     "data": {
      "text/plain": [
       "<AxesSubplot:>"
      ]
     },
     "execution_count": 12,
     "metadata": {},
     "output_type": "execute_result"
    },
    {
     "data": {
      "image/png": "[encoded data removed]",
      "text/plain": [
       "<Figure size 432x288 with 1 Axes>"
      ]
     },
     "metadata": {
      "needs_background": "light"
     },
     "output_type": "display_data"
    }
   ],
   "source": [
    "# Plot the accuracy\n",
    "history_df.plot(y=\"accuracy\")"
   ]
  },
  {
   "cell_type": "code",
   "execution_count": 13,
   "id": "4952e3b1",
   "metadata": {},
   "outputs": [
    {
     "name": "stdout",
     "output_type": "stream",
     "text": [
      "8/8 - 0s - loss: 0.1662 - accuracy: 0.9640\n",
      "Loss: 0.16619068384170532, Accuracy: 0.9639999866485596\n"
     ]
    }
   ],
   "source": [
    "# Evaluate the model using the test data\n",
    "model_loss, model_accuracy = nn_model.evaluate(X_test_scaled,y_test,verbose=2)\n",
    "print(f\"Loss: {model_loss}, Accuracy: {model_accuracy}\")"
   ]
  },
  {
   "cell_type": "code",
   "execution_count": 14,
   "id": "c9a7bb1d",
   "metadata": {},
   "outputs": [
    {
     "data": {
      "text/plain": [
       "array([[0],\n",
       "       [1],\n",
       "       [0],\n",
       "       [1],\n",
       "       [0],\n",
       "       [0],\n",
       "       [1],\n",
       "       [1],\n",
       "       [1],\n",
       "       [0]])"
      ]
     },
     "execution_count": 14,
     "metadata": {},
     "output_type": "execute_result"
    }
   ],
   "source": [
    "# Predict the classification of a new set of blob data\n",
    "new_X, new_Y = make_blobs(n_samples=10, centers=2, n_features=2, random_state=78)\n",
    "new_X_scaled = X_scaler.transform(new_X)\n",
    "(nn_model.predict(new_X_scaled) > 0.5).astype(\"int32\")"
   ]
  },
  {
   "cell_type": "code",
   "execution_count": 15,
   "id": "71bc4726",
   "metadata": {},
   "outputs": [
    {
     "data": {
      "text/plain": [
       "<AxesSubplot:xlabel='Feature 1', ylabel='Feature 2'>"
      ]
     },
     "execution_count": 15,
     "metadata": {},
     "output_type": "execute_result"
    },
    {
     "data": {
      "image/png": "[encoded data removed]",
      "text/plain": [
       "<Figure size 432x288 with 2 Axes>"
      ]
     },
     "metadata": {
      "needs_background": "light"
     },
     "output_type": "display_data"
    }
   ],
   "source": [
    "from sklearn.datasets import make_moons\n",
    "\n",
    "# Creating dummy nonlinear data\n",
    "X_moons, y_moons = make_moons(n_samples=1000, noise=0.08, random_state=78)\n",
    "\n",
    "# Transforming y_moons to a vertical vector\n",
    "y_moons = y_moons.reshape(-1, 1)\n",
    "\n",
    "# Creating a DataFrame to plot the nonlinear dummy data\n",
    "df_moons = pd.DataFrame(X_moons, columns=[\"Feature 1\", \"Feature 2\"])\n",
    "df_moons[\"Target\"] = y_moons\n",
    "\n",
    "# Plot the nonlinear dummy data\n",
    "df_moons.plot.scatter(x=\"Feature 1\",y=\"Feature 2\", c=\"Target\",colormap=\"winter\")"
   ]
  },
  {
   "cell_type": "code",
   "execution_count": 16,
   "id": "544feb5b",
   "metadata": {},
   "outputs": [],
   "source": [
    "# Create training and testing sets\n",
    "X_moon_train, X_moon_test, y_moon_train, y_moon_test = train_test_split(X_moons, y_moons, random_state=78)\n",
    "\n",
    "# Create the scaler instance\n",
    "X_moon_scaler = skl.preprocessing.StandardScaler()\n",
    "\n",
    "# Fit the scaler\n",
    "X_moon_scaler.fit(X_moon_train)\n",
    "\n",
    "# Scale the data\n",
    "X_moon_train_scaled = X_moon_scaler.transform(X_moon_train)\n",
    "X_moon_test_scaled = X_moon_scaler.transform(X_moon_test)"
   ]
  },
  {
   "cell_type": "code",
   "execution_count": 17,
   "id": "0d27b772",
   "metadata": {},
   "outputs": [
    {
     "name": "stdout",
     "output_type": "stream",
     "text": [
      "Epoch 1/100\n",
      "24/24 [==============================] - 0s 799us/step - loss: 1.7774 - accuracy: 0.2640\n",
      "Epoch 2/100\n",
      "24/24 [==============================] - 0s 459us/step - loss: 1.5447 - accuracy: 0.2813\n",
      "Epoch 3/100\n",
      "24/24 [==============================] - 0s 459us/step - loss: 1.3762 - accuracy: 0.2920\n",
      "Epoch 4/100\n",
      "24/24 [==============================] - 0s 459us/step - loss: 1.2592 - accuracy: 0.3027\n",
      "Epoch 5/100\n",
      "24/24 [==============================] - 0s 459us/step - loss: 1.1716 - accuracy: 0.3293\n",
      "Epoch 6/100\n",
      "24/24 [==============================] - 0s 459us/step - loss: 1.1031 - accuracy: 0.3440\n",
      "Epoch 7/100\n",
      "24/24 [==============================] - 0s 417us/step - loss: 1.0489 - accuracy: 0.3547\n",
      "Epoch 8/100\n",
      "24/24 [==============================] - 0s 459us/step - loss: 1.0033 - accuracy: 0.3840\n",
      "Epoch 9/100\n",
      "24/24 [==============================] - 0s 417us/step - loss: 0.9652 - accuracy: 0.3960\n",
      "Epoch 10/100\n",
      "24/24 [==============================] - 0s 459us/step - loss: 0.9324 - accuracy: 0.4133\n",
      "Epoch 11/100\n",
      "24/24 [==============================] - 0s 459us/step - loss: 0.9037 - accuracy: 0.4280\n",
      "Epoch 12/100\n",
      "24/24 [==============================] - 0s 459us/step - loss: 0.8784 - accuracy: 0.4480\n",
      "Epoch 13/100\n",
      "24/24 [==============================] - 0s 459us/step - loss: 0.8555 - accuracy: 0.4600\n",
      "Epoch 14/100\n",
      "24/24 [==============================] - 0s 459us/step - loss: 0.8352 - accuracy: 0.4720\n",
      "Epoch 15/100\n",
      "24/24 [==============================] - 0s 459us/step - loss: 0.8164 - accuracy: 0.4973\n",
      "Epoch 16/100\n",
      "24/24 [==============================] - 0s 459us/step - loss: 0.7992 - accuracy: 0.5080\n",
      "Epoch 17/100\n",
      "24/24 [==============================] - 0s 459us/step - loss: 0.7837 - accuracy: 0.5267\n",
      "Epoch 18/100\n",
      "24/24 [==============================] - 0s 459us/step - loss: 0.7693 - accuracy: 0.5400\n",
      "Epoch 19/100\n",
      "24/24 [==============================] - 0s 459us/step - loss: 0.7560 - accuracy: 0.5467\n",
      "Epoch 20/100\n",
      "24/24 [==============================] - 0s 459us/step - loss: 0.7437 - accuracy: 0.5573\n",
      "Epoch 21/100\n",
      "24/24 [==============================] - 0s 500us/step - loss: 0.7322 - accuracy: 0.5680\n",
      "Epoch 22/100\n",
      "24/24 [==============================] - 0s 459us/step - loss: 0.7211 - accuracy: 0.5813\n",
      "Epoch 23/100\n",
      "24/24 [==============================] - 0s 500us/step - loss: 0.7105 - accuracy: 0.5893\n",
      "Epoch 24/100\n",
      "24/24 [==============================] - 0s 500us/step - loss: 0.7009 - accuracy: 0.5987\n",
      "Epoch 25/100\n",
      "24/24 [==============================] - 0s 459us/step - loss: 0.6914 - accuracy: 0.6120\n",
      "Epoch 26/100\n",
      "24/24 [==============================] - 0s 459us/step - loss: 0.6823 - accuracy: 0.6213\n",
      "Epoch 27/100\n",
      "24/24 [==============================] - 0s 500us/step - loss: 0.6740 - accuracy: 0.6293\n",
      "Epoch 28/100\n",
      "24/24 [==============================] - 0s 500us/step - loss: 0.6661 - accuracy: 0.6333\n",
      "Epoch 29/100\n",
      "24/24 [==============================] - 0s 459us/step - loss: 0.6585 - accuracy: 0.6387\n",
      "Epoch 30/100\n",
      "24/24 [==============================] - 0s 459us/step - loss: 0.6513 - accuracy: 0.6453\n",
      "Epoch 31/100\n",
      "24/24 [==============================] - 0s 542us/step - loss: 0.6442 - accuracy: 0.6533\n",
      "Epoch 32/100\n",
      "24/24 [==============================] - 0s 459us/step - loss: 0.6378 - accuracy: 0.6573\n",
      "Epoch 33/100\n",
      "24/24 [==============================] - 0s 500us/step - loss: 0.6315 - accuracy: 0.6640\n",
      "Epoch 34/100\n",
      "24/24 [==============================] - 0s 459us/step - loss: 0.6258 - accuracy: 0.6680\n",
      "Epoch 35/100\n",
      "24/24 [==============================] - 0s 459us/step - loss: 0.6204 - accuracy: 0.6733\n",
      "Epoch 36/100\n",
      "24/24 [==============================] - 0s 500us/step - loss: 0.6152 - accuracy: 0.6747\n",
      "Epoch 37/100\n",
      "24/24 [==============================] - 0s 500us/step - loss: 0.6101 - accuracy: 0.6827\n",
      "Epoch 38/100\n",
      "24/24 [==============================] - 0s 500us/step - loss: 0.6050 - accuracy: 0.6840\n",
      "Epoch 39/100\n",
      "24/24 [==============================] - 0s 542us/step - loss: 0.6003 - accuracy: 0.6827\n",
      "Epoch 40/100\n",
      "24/24 [==============================] - 0s 459us/step - loss: 0.5956 - accuracy: 0.6867\n",
      "Epoch 41/100\n",
      "24/24 [==============================] - 0s 459us/step - loss: 0.5914 - accuracy: 0.6907\n",
      "Epoch 42/100\n",
      "24/24 [==============================] - 0s 459us/step - loss: 0.5872 - accuracy: 0.6907\n",
      "Epoch 43/100\n",
      "24/24 [==============================] - 0s 459us/step - loss: 0.5833 - accuracy: 0.6907\n",
      "Epoch 44/100\n",
      "24/24 [==============================] - 0s 500us/step - loss: 0.5795 - accuracy: 0.6867\n",
      "Epoch 45/100\n",
      "24/24 [==============================] - 0s 459us/step - loss: 0.5759 - accuracy: 0.6867\n",
      "Epoch 46/100\n",
      "24/24 [==============================] - 0s 459us/step - loss: 0.5724 - accuracy: 0.6960\n",
      "Epoch 47/100\n",
      "24/24 [==============================] - 0s 459us/step - loss: 0.5692 - accuracy: 0.6973\n",
      "Epoch 48/100\n",
      "24/24 [==============================] - 0s 459us/step - loss: 0.5660 - accuracy: 0.7013\n",
      "Epoch 49/100\n",
      "24/24 [==============================] - 0s 459us/step - loss: 0.5631 - accuracy: 0.6987\n",
      "Epoch 50/100\n",
      "24/24 [==============================] - 0s 459us/step - loss: 0.5601 - accuracy: 0.6987\n",
      "Epoch 51/100\n",
      "24/24 [==============================] - 0s 459us/step - loss: 0.5574 - accuracy: 0.7000\n",
      "Epoch 52/100\n",
      "24/24 [==============================] - 0s 459us/step - loss: 0.5547 - accuracy: 0.7053\n",
      "Epoch 53/100\n",
      "24/24 [==============================] - 0s 459us/step - loss: 0.5521 - accuracy: 0.7080\n",
      "Epoch 54/100\n",
      "24/24 [==============================] - 0s 459us/step - loss: 0.5495 - accuracy: 0.7093\n",
      "Epoch 55/100\n",
      "24/24 [==============================] - 0s 459us/step - loss: 0.5470 - accuracy: 0.7093\n",
      "Epoch 56/100\n",
      "24/24 [==============================] - 0s 459us/step - loss: 0.5443 - accuracy: 0.7120\n",
      "Epoch 57/100\n",
      "24/24 [==============================] - 0s 417us/step - loss: 0.5418 - accuracy: 0.7160\n",
      "Epoch 58/100\n",
      "24/24 [==============================] - 0s 459us/step - loss: 0.5392 - accuracy: 0.7200\n",
      "Epoch 59/100\n",
      "24/24 [==============================] - 0s 459us/step - loss: 0.5367 - accuracy: 0.7213\n",
      "Epoch 60/100\n",
      "24/24 [==============================] - 0s 459us/step - loss: 0.5343 - accuracy: 0.7253\n",
      "Epoch 61/100\n",
      "24/24 [==============================] - 0s 459us/step - loss: 0.5317 - accuracy: 0.7253\n",
      "Epoch 62/100\n",
      "24/24 [==============================] - 0s 500us/step - loss: 0.5294 - accuracy: 0.7293\n",
      "Epoch 63/100\n",
      "24/24 [==============================] - 0s 459us/step - loss: 0.5268 - accuracy: 0.7293\n",
      "Epoch 64/100\n",
      "24/24 [==============================] - 0s 459us/step - loss: 0.5243 - accuracy: 0.7320\n",
      "Epoch 65/100\n",
      "24/24 [==============================] - 0s 459us/step - loss: 0.5217 - accuracy: 0.7347\n",
      "Epoch 66/100\n",
      "24/24 [==============================] - 0s 459us/step - loss: 0.5189 - accuracy: 0.7333\n",
      "Epoch 67/100\n",
      "24/24 [==============================] - 0s 459us/step - loss: 0.5162 - accuracy: 0.7333\n",
      "Epoch 68/100\n",
      "24/24 [==============================] - 0s 459us/step - loss: 0.5134 - accuracy: 0.7320\n",
      "Epoch 69/100\n",
      "24/24 [==============================] - 0s 459us/step - loss: 0.5109 - accuracy: 0.7320\n",
      "Epoch 70/100\n",
      "24/24 [==============================] - 0s 459us/step - loss: 0.5084 - accuracy: 0.7347\n",
      "Epoch 71/100\n",
      "24/24 [==============================] - 0s 417us/step - loss: 0.5059 - accuracy: 0.7373\n",
      "Epoch 72/100\n",
      "24/24 [==============================] - 0s 417us/step - loss: 0.5035 - accuracy: 0.7387\n",
      "Epoch 73/100\n",
      "24/24 [==============================] - 0s 459us/step - loss: 0.5010 - accuracy: 0.7400\n",
      "Epoch 74/100\n",
      "24/24 [==============================] - 0s 459us/step - loss: 0.4986 - accuracy: 0.7413\n",
      "Epoch 75/100\n",
      "24/24 [==============================] - 0s 459us/step - loss: 0.4963 - accuracy: 0.7453\n",
      "Epoch 76/100\n",
      "24/24 [==============================] - 0s 459us/step - loss: 0.4941 - accuracy: 0.7467\n",
      "Epoch 77/100\n",
      "24/24 [==============================] - 0s 500us/step - loss: 0.4919 - accuracy: 0.7493\n",
      "Epoch 78/100\n",
      "24/24 [==============================] - 0s 459us/step - loss: 0.4895 - accuracy: 0.7547\n",
      "Epoch 79/100\n",
      "24/24 [==============================] - 0s 459us/step - loss: 0.4870 - accuracy: 0.7600\n",
      "Epoch 80/100\n",
      "24/24 [==============================] - 0s 500us/step - loss: 0.4846 - accuracy: 0.7627\n",
      "Epoch 81/100\n"
     ]
    },
    {
     "name": "stdout",
     "output_type": "stream",
     "text": [
      "24/24 [==============================] - 0s 459us/step - loss: 0.4821 - accuracy: 0.7680\n",
      "Epoch 82/100\n",
      "24/24 [==============================] - 0s 459us/step - loss: 0.4797 - accuracy: 0.7667\n",
      "Epoch 83/100\n",
      "24/24 [==============================] - 0s 417us/step - loss: 0.4773 - accuracy: 0.7707\n",
      "Epoch 84/100\n",
      "24/24 [==============================] - 0s 459us/step - loss: 0.4749 - accuracy: 0.7747\n",
      "Epoch 85/100\n",
      "24/24 [==============================] - 0s 459us/step - loss: 0.4725 - accuracy: 0.7760\n",
      "Epoch 86/100\n",
      "24/24 [==============================] - 0s 459us/step - loss: 0.4700 - accuracy: 0.7760\n",
      "Epoch 87/100\n",
      "24/24 [==============================] - 0s 417us/step - loss: 0.4677 - accuracy: 0.7787\n",
      "Epoch 88/100\n",
      "24/24 [==============================] - 0s 459us/step - loss: 0.4653 - accuracy: 0.7813\n",
      "Epoch 89/100\n",
      "24/24 [==============================] - 0s 459us/step - loss: 0.4629 - accuracy: 0.7813\n",
      "Epoch 90/100\n",
      "24/24 [==============================] - 0s 459us/step - loss: 0.4606 - accuracy: 0.7827\n",
      "Epoch 91/100\n",
      "24/24 [==============================] - 0s 417us/step - loss: 0.4582 - accuracy: 0.7827\n",
      "Epoch 92/100\n",
      "24/24 [==============================] - 0s 459us/step - loss: 0.4558 - accuracy: 0.7840\n",
      "Epoch 93/100\n",
      "24/24 [==============================] - 0s 417us/step - loss: 0.4536 - accuracy: 0.7840\n",
      "Epoch 94/100\n",
      "24/24 [==============================] - 0s 417us/step - loss: 0.4513 - accuracy: 0.7867\n",
      "Epoch 95/100\n",
      "24/24 [==============================] - 0s 417us/step - loss: 0.4491 - accuracy: 0.7893\n",
      "Epoch 96/100\n",
      "24/24 [==============================] - 0s 459us/step - loss: 0.4467 - accuracy: 0.7920\n",
      "Epoch 97/100\n",
      "24/24 [==============================] - 0s 500us/step - loss: 0.4445 - accuracy: 0.7920\n",
      "Epoch 98/100\n",
      "24/24 [==============================] - 0s 459us/step - loss: 0.4424 - accuracy: 0.7960\n",
      "Epoch 99/100\n",
      "24/24 [==============================] - 0s 459us/step - loss: 0.4402 - accuracy: 0.7973\n",
      "Epoch 100/100\n",
      "24/24 [==============================] - 0s 459us/step - loss: 0.4382 - accuracy: 0.7987\n"
     ]
    }
   ],
   "source": [
    "# Training the model with the nonlinear data\n",
    "model_moon = nn_model.fit(X_moon_train_scaled, y_moon_train, epochs=100, shuffle=True)"
   ]
  },
  {
   "cell_type": "code",
   "execution_count": 18,
   "id": "3b5a1b68",
   "metadata": {},
   "outputs": [
    {
     "data": {
      "text/plain": [
       "<AxesSubplot:>"
      ]
     },
     "execution_count": 18,
     "metadata": {},
     "output_type": "execute_result"
    },
    {
     "data": {
      "image/png": "[encoded data removed]",
      "text/plain": [
       "<Figure size 432x288 with 1 Axes>"
      ]
     },
     "metadata": {
      "needs_background": "light"
     },
     "output_type": "display_data"
    }
   ],
   "source": [
    "# Create a DataFrame containing training history\n",
    "history_df = pd.DataFrame(model_moon.history, index=range(1,len(model_moon.history[\"loss\"])+1))\n",
    "\n",
    "# Plot the loss\n",
    "history_df.plot(y=\"loss\")"
   ]
  },
  {
   "cell_type": "code",
   "execution_count": 19,
   "id": "efbd7a7e",
   "metadata": {},
   "outputs": [
    {
     "data": {
      "text/plain": [
       "<AxesSubplot:>"
      ]
     },
     "execution_count": 19,
     "metadata": {},
     "output_type": "execute_result"
    },
    {
     "data": {
      "image/png": "[encoded data removed]",
      "text/plain": [
       "<Figure size 432x288 with 1 Axes>"
      ]
     },
     "metadata": {
      "needs_background": "light"
     },
     "output_type": "display_data"
    }
   ],
   "source": [
    "# Plot the accuracy\n",
    "history_df.plot(y=\"accuracy\")"
   ]
  },
  {
   "cell_type": "code",
   "execution_count": 20,
   "id": "27b61347",
   "metadata": {},
   "outputs": [],
   "source": [
    "# Generate our new Sequential model\n",
    "new_model = tf.keras.models.Sequential()"
   ]
  },
  {
   "cell_type": "code",
   "execution_count": 21,
   "id": "f8de343b",
   "metadata": {},
   "outputs": [],
   "source": [
    "# Add the input and hidden layer\n",
    "number_inputs = 2\n",
    "number_hidden_nodes = 6\n",
    "\n",
    "new_model.add(tf.keras.layers.Dense(units=number_hidden_nodes, activation=\"relu\", input_dim=number_inputs))\n",
    "\n",
    "# Add the output layer that uses a probability activation function\n",
    "new_model.add(tf.keras.layers.Dense(units=1, activation=\"sigmoid\"))"
   ]
  },
  {
   "cell_type": "code",
   "execution_count": 22,
   "id": "5e1bbe3e",
   "metadata": {},
   "outputs": [
    {
     "name": "stdout",
     "output_type": "stream",
     "text": [
      "Epoch 1/100\n",
      "24/24 [==============================] - 0s 334us/step - loss: 0.5008 - accuracy: 0.6920\n",
      "Epoch 2/100\n",
      "24/24 [==============================] - 0s 292us/step - loss: 0.4757 - accuracy: 0.7173\n",
      "Epoch 3/100\n",
      "24/24 [==============================] - 0s 334us/step - loss: 0.4531 - accuracy: 0.7813\n",
      "Epoch 4/100\n",
      "24/24 [==============================] - 0s 292us/step - loss: 0.4332 - accuracy: 0.8453\n",
      "Epoch 5/100\n",
      "24/24 [==============================] - 0s 292us/step - loss: 0.4158 - accuracy: 0.8627\n",
      "Epoch 6/100\n",
      "24/24 [==============================] - 0s 292us/step - loss: 0.4005 - accuracy: 0.8640\n",
      "Epoch 7/100\n",
      "24/24 [==============================] - 0s 292us/step - loss: 0.3870 - accuracy: 0.8653\n",
      "Epoch 8/100\n",
      "24/24 [==============================] - 0s 292us/step - loss: 0.3748 - accuracy: 0.8653\n",
      "Epoch 9/100\n",
      "24/24 [==============================] - 0s 292us/step - loss: 0.3640 - accuracy: 0.8653\n",
      "Epoch 10/100\n",
      "24/24 [==============================] - 0s 292us/step - loss: 0.3543 - accuracy: 0.8653\n",
      "Epoch 11/100\n",
      "24/24 [==============================] - 0s 292us/step - loss: 0.3457 - accuracy: 0.8653\n",
      "Epoch 12/100\n",
      "24/24 [==============================] - 0s 292us/step - loss: 0.3379 - accuracy: 0.8667\n",
      "Epoch 13/100\n",
      "24/24 [==============================] - 0s 292us/step - loss: 0.3311 - accuracy: 0.8680\n",
      "Epoch 14/100\n",
      "24/24 [==============================] - 0s 292us/step - loss: 0.3247 - accuracy: 0.8693\n",
      "Epoch 15/100\n",
      "24/24 [==============================] - 0s 292us/step - loss: 0.3187 - accuracy: 0.8693\n",
      "Epoch 16/100\n",
      "24/24 [==============================] - 0s 292us/step - loss: 0.3136 - accuracy: 0.8707\n",
      "Epoch 17/100\n",
      "24/24 [==============================] - 0s 292us/step - loss: 0.3086 - accuracy: 0.8720\n",
      "Epoch 18/100\n",
      "24/24 [==============================] - 0s 292us/step - loss: 0.3038 - accuracy: 0.8720\n",
      "Epoch 19/100\n",
      "24/24 [==============================] - 0s 292us/step - loss: 0.2995 - accuracy: 0.8747\n",
      "Epoch 20/100\n",
      "24/24 [==============================] - 0s 334us/step - loss: 0.2954 - accuracy: 0.8760\n",
      "Epoch 21/100\n",
      "24/24 [==============================] - 0s 292us/step - loss: 0.2915 - accuracy: 0.8773\n",
      "Epoch 22/100\n",
      "24/24 [==============================] - 0s 292us/step - loss: 0.2878 - accuracy: 0.8773\n",
      "Epoch 23/100\n",
      "24/24 [==============================] - 0s 292us/step - loss: 0.2844 - accuracy: 0.8787\n",
      "Epoch 24/100\n",
      "24/24 [==============================] - 0s 292us/step - loss: 0.2809 - accuracy: 0.8787\n",
      "Epoch 25/100\n",
      "24/24 [==============================] - 0s 292us/step - loss: 0.2779 - accuracy: 0.8787\n",
      "Epoch 26/100\n",
      "24/24 [==============================] - 0s 334us/step - loss: 0.2748 - accuracy: 0.8800\n",
      "Epoch 27/100\n",
      "24/24 [==============================] - 0s 292us/step - loss: 0.2721 - accuracy: 0.8800\n",
      "Epoch 28/100\n",
      "24/24 [==============================] - 0s 292us/step - loss: 0.2696 - accuracy: 0.8813\n",
      "Epoch 29/100\n",
      "24/24 [==============================] - 0s 292us/step - loss: 0.2673 - accuracy: 0.8853\n",
      "Epoch 30/100\n",
      "24/24 [==============================] - 0s 292us/step - loss: 0.2653 - accuracy: 0.8867\n",
      "Epoch 31/100\n",
      "24/24 [==============================] - 0s 292us/step - loss: 0.2633 - accuracy: 0.8880\n",
      "Epoch 32/100\n",
      "24/24 [==============================] - 0s 292us/step - loss: 0.2616 - accuracy: 0.8893\n",
      "Epoch 33/100\n",
      "24/24 [==============================] - 0s 292us/step - loss: 0.2601 - accuracy: 0.8907\n",
      "Epoch 34/100\n",
      "24/24 [==============================] - 0s 292us/step - loss: 0.2585 - accuracy: 0.8920\n",
      "Epoch 35/100\n",
      "24/24 [==============================] - 0s 292us/step - loss: 0.2571 - accuracy: 0.8933\n",
      "Epoch 36/100\n",
      "24/24 [==============================] - 0s 292us/step - loss: 0.2559 - accuracy: 0.8933\n",
      "Epoch 37/100\n",
      "24/24 [==============================] - 0s 250us/step - loss: 0.2546 - accuracy: 0.8947\n",
      "Epoch 38/100\n",
      "24/24 [==============================] - 0s 292us/step - loss: 0.2534 - accuracy: 0.8947\n",
      "Epoch 39/100\n",
      "24/24 [==============================] - 0s 292us/step - loss: 0.2524 - accuracy: 0.8973\n",
      "Epoch 40/100\n",
      "24/24 [==============================] - 0s 334us/step - loss: 0.2512 - accuracy: 0.8973\n",
      "Epoch 41/100\n",
      "24/24 [==============================] - 0s 292us/step - loss: 0.2503 - accuracy: 0.8973\n",
      "Epoch 42/100\n",
      "24/24 [==============================] - 0s 292us/step - loss: 0.2493 - accuracy: 0.8973\n",
      "Epoch 43/100\n",
      "24/24 [==============================] - 0s 292us/step - loss: 0.2485 - accuracy: 0.8973\n",
      "Epoch 44/100\n",
      "24/24 [==============================] - 0s 292us/step - loss: 0.2476 - accuracy: 0.8960\n",
      "Epoch 45/100\n",
      "24/24 [==============================] - 0s 292us/step - loss: 0.2466 - accuracy: 0.8960\n",
      "Epoch 46/100\n",
      "24/24 [==============================] - 0s 292us/step - loss: 0.2458 - accuracy: 0.8973\n",
      "Epoch 47/100\n",
      "24/24 [==============================] - 0s 292us/step - loss: 0.2450 - accuracy: 0.8960\n",
      "Epoch 48/100\n",
      "24/24 [==============================] - 0s 292us/step - loss: 0.2441 - accuracy: 0.8960\n",
      "Epoch 49/100\n",
      "24/24 [==============================] - 0s 292us/step - loss: 0.2435 - accuracy: 0.8973\n",
      "Epoch 50/100\n",
      "24/24 [==============================] - 0s 334us/step - loss: 0.2426 - accuracy: 0.8960\n",
      "Epoch 51/100\n",
      "24/24 [==============================] - 0s 292us/step - loss: 0.2419 - accuracy: 0.8947\n",
      "Epoch 52/100\n",
      "24/24 [==============================] - 0s 292us/step - loss: 0.2412 - accuracy: 0.8947\n",
      "Epoch 53/100\n",
      "24/24 [==============================] - 0s 334us/step - loss: 0.2404 - accuracy: 0.8947\n",
      "Epoch 54/100\n",
      "24/24 [==============================] - 0s 292us/step - loss: 0.2397 - accuracy: 0.8947\n",
      "Epoch 55/100\n",
      "24/24 [==============================] - 0s 292us/step - loss: 0.2389 - accuracy: 0.8973\n",
      "Epoch 56/100\n",
      "24/24 [==============================] - 0s 334us/step - loss: 0.2381 - accuracy: 0.8987\n",
      "Epoch 57/100\n",
      "24/24 [==============================] - 0s 292us/step - loss: 0.2375 - accuracy: 0.8973\n",
      "Epoch 58/100\n",
      "24/24 [==============================] - 0s 292us/step - loss: 0.2365 - accuracy: 0.8987\n",
      "Epoch 59/100\n",
      "24/24 [==============================] - 0s 334us/step - loss: 0.2357 - accuracy: 0.8987\n",
      "Epoch 60/100\n",
      "24/24 [==============================] - 0s 292us/step - loss: 0.2349 - accuracy: 0.8987\n",
      "Epoch 61/100\n",
      "24/24 [==============================] - 0s 292us/step - loss: 0.2340 - accuracy: 0.8987\n",
      "Epoch 62/100\n",
      "24/24 [==============================] - 0s 334us/step - loss: 0.2332 - accuracy: 0.8973\n",
      "Epoch 63/100\n",
      "24/24 [==============================] - 0s 292us/step - loss: 0.2324 - accuracy: 0.8987\n",
      "Epoch 64/100\n",
      "24/24 [==============================] - 0s 292us/step - loss: 0.2315 - accuracy: 0.8987\n",
      "Epoch 65/100\n",
      "24/24 [==============================] - 0s 292us/step - loss: 0.2306 - accuracy: 0.8987\n",
      "Epoch 66/100\n",
      "24/24 [==============================] - 0s 292us/step - loss: 0.2298 - accuracy: 0.8987\n",
      "Epoch 67/100\n",
      "24/24 [==============================] - 0s 292us/step - loss: 0.2289 - accuracy: 0.8987\n",
      "Epoch 68/100\n",
      "24/24 [==============================] - 0s 292us/step - loss: 0.2279 - accuracy: 0.9000\n",
      "Epoch 69/100\n",
      "24/24 [==============================] - 0s 292us/step - loss: 0.2271 - accuracy: 0.9000\n",
      "Epoch 70/100\n",
      "24/24 [==============================] - 0s 292us/step - loss: 0.2260 - accuracy: 0.9000\n",
      "Epoch 71/100\n",
      "24/24 [==============================] - 0s 292us/step - loss: 0.2252 - accuracy: 0.9000\n",
      "Epoch 72/100\n",
      "24/24 [==============================] - 0s 334us/step - loss: 0.2240 - accuracy: 0.9000\n",
      "Epoch 73/100\n",
      "24/24 [==============================] - 0s 292us/step - loss: 0.2231 - accuracy: 0.9000\n",
      "Epoch 74/100\n",
      "24/24 [==============================] - 0s 292us/step - loss: 0.2221 - accuracy: 0.9000\n",
      "Epoch 75/100\n",
      "24/24 [==============================] - 0s 292us/step - loss: 0.2211 - accuracy: 0.9000\n",
      "Epoch 76/100\n",
      "24/24 [==============================] - 0s 292us/step - loss: 0.2199 - accuracy: 0.9027\n",
      "Epoch 77/100\n",
      "24/24 [==============================] - 0s 292us/step - loss: 0.2188 - accuracy: 0.9027\n",
      "Epoch 78/100\n",
      "24/24 [==============================] - 0s 250us/step - loss: 0.2175 - accuracy: 0.9040\n",
      "Epoch 79/100\n",
      "24/24 [==============================] - 0s 292us/step - loss: 0.2164 - accuracy: 0.9053\n",
      "Epoch 80/100\n",
      "24/24 [==============================] - 0s 292us/step - loss: 0.2152 - accuracy: 0.9053\n",
      "Epoch 81/100\n"
     ]
    },
    {
     "name": "stdout",
     "output_type": "stream",
     "text": [
      "24/24 [==============================] - 0s 334us/step - loss: 0.2139 - accuracy: 0.9053\n",
      "Epoch 82/100\n",
      "24/24 [==============================] - 0s 334us/step - loss: 0.2125 - accuracy: 0.9053\n",
      "Epoch 83/100\n",
      "24/24 [==============================] - 0s 292us/step - loss: 0.2111 - accuracy: 0.9053\n",
      "Epoch 84/100\n",
      "24/24 [==============================] - 0s 292us/step - loss: 0.2097 - accuracy: 0.9053\n",
      "Epoch 85/100\n",
      "24/24 [==============================] - 0s 292us/step - loss: 0.2084 - accuracy: 0.9067\n",
      "Epoch 86/100\n",
      "24/24 [==============================] - 0s 334us/step - loss: 0.2069 - accuracy: 0.9080\n",
      "Epoch 87/100\n",
      "24/24 [==============================] - 0s 292us/step - loss: 0.2052 - accuracy: 0.9080\n",
      "Epoch 88/100\n",
      "24/24 [==============================] - 0s 292us/step - loss: 0.2038 - accuracy: 0.9107\n",
      "Epoch 89/100\n",
      "24/24 [==============================] - 0s 334us/step - loss: 0.2022 - accuracy: 0.9120\n",
      "Epoch 90/100\n",
      "24/24 [==============================] - 0s 292us/step - loss: 0.2008 - accuracy: 0.9120\n",
      "Epoch 91/100\n",
      "24/24 [==============================] - 0s 334us/step - loss: 0.1991 - accuracy: 0.9120\n",
      "Epoch 92/100\n",
      "24/24 [==============================] - 0s 250us/step - loss: 0.1976 - accuracy: 0.9133\n",
      "Epoch 93/100\n",
      "24/24 [==============================] - 0s 250us/step - loss: 0.1961 - accuracy: 0.9173\n",
      "Epoch 94/100\n",
      "24/24 [==============================] - 0s 250us/step - loss: 0.1944 - accuracy: 0.9173\n",
      "Epoch 95/100\n",
      "24/24 [==============================] - 0s 292us/step - loss: 0.1928 - accuracy: 0.9187\n",
      "Epoch 96/100\n",
      "24/24 [==============================] - 0s 292us/step - loss: 0.1913 - accuracy: 0.9187\n",
      "Epoch 97/100\n",
      "24/24 [==============================] - 0s 292us/step - loss: 0.1896 - accuracy: 0.9200\n",
      "Epoch 98/100\n",
      "24/24 [==============================] - 0s 292us/step - loss: 0.1882 - accuracy: 0.9213\n",
      "Epoch 99/100\n",
      "24/24 [==============================] - 0s 292us/step - loss: 0.1864 - accuracy: 0.9213\n",
      "Epoch 100/100\n",
      "24/24 [==============================] - 0s 292us/step - loss: 0.1849 - accuracy: 0.9227\n"
     ]
    }
   ],
   "source": [
    "# Compile the Sequential model together and customize metrics\n",
    "new_model.compile(loss=\"binary_crossentropy\", optimizer=\"adam\", metrics=[\"accuracy\"])\n",
    "\n",
    "# Fit the model to the training data\n",
    "new_fit_model = new_model.fit(X_moon_train_scaled, y_moon_train, epochs=100, shuffle=True)"
   ]
  },
  {
   "cell_type": "code",
   "execution_count": 23,
   "id": "10a506c5",
   "metadata": {},
   "outputs": [
    {
     "data": {
      "text/plain": [
       "<AxesSubplot:>"
      ]
     },
     "execution_count": 23,
     "metadata": {},
     "output_type": "execute_result"
    },
    {
     "data": {
      "image/png": "[encoded data removed]",
      "text/plain": [
       "<Figure size 432x288 with 1 Axes>"
      ]
     },
     "metadata": {
      "needs_background": "light"
     },
     "output_type": "display_data"
    }
   ],
   "source": [
    "# Create a DataFrame containing training history\n",
    "history_df = pd.DataFrame(new_fit_model.history, index=range(1,len(new_fit_model.history[\"loss\"])+1))\n",
    "\n",
    "# Plot the loss\n",
    "history_df.plot(y=\"loss\")"
   ]
  },
  {
   "cell_type": "code",
   "execution_count": 24,
   "id": "6e1d1d83",
   "metadata": {},
   "outputs": [
    {
     "data": {
      "text/plain": [
       "<AxesSubplot:>"
      ]
     },
     "execution_count": 24,
     "metadata": {},
     "output_type": "execute_result"
    },
    {
     "data": {
      "image/png": "[encoded data removed]",
      "text/plain": [
       "<Figure size 432x288 with 1 Axes>"
      ]
     },
     "metadata": {
      "needs_background": "light"
     },
     "output_type": "display_data"
    }
   ],
   "source": [
    "# Plot the accuracy\n",
    "history_df.plot(y=\"accuracy\")"
   ]
  },
  {
   "cell_type": "code",
   "execution_count": null,
   "id": "58b91ddf",
   "metadata": {},
   "outputs": [],
   "source": []
  }
 ],
 "metadata": {
  "kernelspec": {
   "display_name": "mlenv",
   "language": "python",
   "name": "mlenv"
  },
  "language_info": {
   "codemirror_mode": {
    "name": "ipython",
    "version": 3
   },
   "file_extension": ".py",
   "mimetype": "text/x-python",
   "name": "python",
   "nbconvert_exporter": "python",
   "pygments_lexer": "ipython3",
   "version": "3.7.13"
  }
 },
 "nbformat": 4,
 "nbformat_minor": 5
}
