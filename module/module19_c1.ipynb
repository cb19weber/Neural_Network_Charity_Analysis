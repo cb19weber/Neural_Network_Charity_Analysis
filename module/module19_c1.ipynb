{
 "cells": [
  {
   "cell_type": "code",
   "execution_count": 1,
   "id": "fcef9755",
   "metadata": {},
   "outputs": [],
   "source": [
    "# Import our dependencies\n",
    "import pandas as pd\n",
    "import matplotlib as plt\n",
    "from sklearn.datasets import make_blobs\n",
    "import sklearn as skl\n",
    "import tensorflow as tf"
   ]
  },
  {
   "cell_type": "code",
   "execution_count": 2,
   "id": "71b28043",
   "metadata": {},
   "outputs": [
    {
     "data": {
      "text/plain": [
       "<AxesSubplot:xlabel='Feature 1', ylabel='Feature 2'>"
      ]
     },
     "execution_count": 2,
     "metadata": {},
     "output_type": "execute_result"
    },
    {
     "data": {
      "image/png": "[encoded data removed]",
      "text/plain": [
       "<Figure size 432x288 with 2 Axes>"
      ]
     },
     "metadata": {
      "needs_background": "light"
     },
     "output_type": "display_data"
    }
   ],
   "source": [
    "# Generate dummy dataset\n",
    "X, y = make_blobs(n_samples=1000, centers=2, n_features=2, random_state=78)\n",
    "\n",
    "# Creating a DataFrame with the dummy data\n",
    "df = pd.DataFrame(X, columns=[\"Feature 1\", \"Feature 2\"])\n",
    "df[\"Target\"] = y\n",
    "\n",
    "# Plotting the dummy data\n",
    "df.plot.scatter(x=\"Feature 1\", y=\"Feature 2\", c=\"Target\", colormap=\"winter\")"
   ]
  },
  {
   "cell_type": "code",
   "execution_count": 3,
   "id": "869b8fd0",
   "metadata": {},
   "outputs": [],
   "source": [
    "# Use sklearn to split dataset\n",
    "from sklearn.model_selection import train_test_split\n",
    "X_train, X_test, y_train, y_test = train_test_split(X, y, random_state=78)"
   ]
  },
  {
   "cell_type": "code",
   "execution_count": 4,
   "id": "5d3b73ff",
   "metadata": {},
   "outputs": [],
   "source": [
    "# Create scaler instance\n",
    "X_scaler = skl.preprocessing.StandardScaler()\n",
    "\n",
    "# Fit the scaler\n",
    "X_scaler.fit(X_train)\n",
    "\n",
    "# Scale the data\n",
    "X_train_scaled = X_scaler.transform(X_train)\n",
    "X_test_scaled = X_scaler.transform(X_test)"
   ]
  },
  {
   "cell_type": "code",
   "execution_count": 5,
   "id": "d05d64ee",
   "metadata": {},
   "outputs": [],
   "source": [
    "# Create the Keras Sequential model\n",
    "nn_model = tf.keras.models.Sequential()"
   ]
  },
  {
   "cell_type": "code",
   "execution_count": 6,
   "id": "500d4e06",
   "metadata": {},
   "outputs": [],
   "source": [
    "# Add our first Dense layer, including the input layer\n",
    "nn_model.add(tf.keras.layers.Dense(units=1, activation=\"relu\", input_dim=2))"
   ]
  },
  {
   "cell_type": "code",
   "execution_count": 7,
   "id": "e0a36620",
   "metadata": {},
   "outputs": [],
   "source": [
    "# Add the output layer that uses a probability activation function\n",
    "nn_model.add(tf.keras.layers.Dense(units=1, activation=\"sigmoid\"))"
   ]
  },
  {
   "cell_type": "code",
   "execution_count": 8,
   "id": "54786429",
   "metadata": {},
   "outputs": [
    {
     "name": "stdout",
     "output_type": "stream",
     "text": [
      "Model: \"sequential\"\n",
      "_________________________________________________________________\n",
      "Layer (type)                 Output Shape              Param #   \n",
      "=================================================================\n",
      "dense (Dense)                (None, 1)                 3         \n",
      "_________________________________________________________________\n",
      "dense_1 (Dense)              (None, 1)                 2         \n",
      "=================================================================\n",
      "Total params: 5\n",
      "Trainable params: 5\n",
      "Non-trainable params: 0\n",
      "_________________________________________________________________\n"
     ]
    }
   ],
   "source": [
    "# Check the structure of the Sequential model\n",
    "nn_model.summary()"
   ]
  },
  {
   "cell_type": "code",
   "execution_count": 9,
   "id": "128d5256",
   "metadata": {},
   "outputs": [],
   "source": [
    "# Compile the Sequential model together and customize metrics\n",
    "nn_model.compile(loss=\"binary_crossentropy\", optimizer=\"adam\", metrics=[\"accuracy\"])"
   ]
  },
  {
   "cell_type": "code",
   "execution_count": 10,
   "id": "b2de6fb4",
   "metadata": {},
   "outputs": [
    {
     "name": "stdout",
     "output_type": "stream",
     "text": [
      "Epoch 1/100\n",
      " 1/24 [>.............................] - ETA: 0s - loss: 0.7559 - accuracy: 0.5000WARNING:tensorflow:Callbacks method `on_train_batch_end` is slow compared to the batch time (batch time: 0.0000s vs `on_train_batch_end` time: 0.0010s). Check your callbacks.\n",
      "24/24 [==============================] - 0s 334us/step - loss: 0.6949 - accuracy: 0.5400\n",
      "Epoch 2/100\n",
      "24/24 [==============================] - 0s 334us/step - loss: 0.6822 - accuracy: 0.5693\n",
      "Epoch 3/100\n",
      "24/24 [==============================] - 0s 292us/step - loss: 0.6710 - accuracy: 0.6000\n",
      "Epoch 4/100\n",
      "24/24 [==============================] - 0s 334us/step - loss: 0.6606 - accuracy: 0.6240\n",
      "Epoch 5/100\n",
      "24/24 [==============================] - 0s 334us/step - loss: 0.6508 - accuracy: 0.6400\n",
      "Epoch 6/100\n",
      "24/24 [==============================] - 0s 292us/step - loss: 0.6410 - accuracy: 0.6533\n",
      "Epoch 7/100\n",
      "24/24 [==============================] - 0s 292us/step - loss: 0.6313 - accuracy: 0.6773\n",
      "Epoch 8/100\n",
      "24/24 [==============================] - 0s 334us/step - loss: 0.6216 - accuracy: 0.6933\n",
      "Epoch 9/100\n",
      "24/24 [==============================] - 0s 334us/step - loss: 0.6112 - accuracy: 0.7013\n",
      "Epoch 10/100\n",
      "24/24 [==============================] - 0s 292us/step - loss: 0.6008 - accuracy: 0.7200\n",
      "Epoch 11/100\n",
      "24/24 [==============================] - 0s 334us/step - loss: 0.5900 - accuracy: 0.7400\n",
      "Epoch 12/100\n",
      "24/24 [==============================] - 0s 292us/step - loss: 0.5790 - accuracy: 0.7493\n",
      "Epoch 13/100\n",
      "24/24 [==============================] - 0s 334us/step - loss: 0.5679 - accuracy: 0.7680\n",
      "Epoch 14/100\n",
      "24/24 [==============================] - 0s 292us/step - loss: 0.5565 - accuracy: 0.7800\n",
      "Epoch 15/100\n",
      "24/24 [==============================] - 0s 334us/step - loss: 0.5451 - accuracy: 0.7947\n",
      "Epoch 16/100\n",
      "24/24 [==============================] - 0s 292us/step - loss: 0.5337 - accuracy: 0.8000\n",
      "Epoch 17/100\n",
      "24/24 [==============================] - 0s 334us/step - loss: 0.5224 - accuracy: 0.8093\n",
      "Epoch 18/100\n",
      "24/24 [==============================] - 0s 292us/step - loss: 0.5111 - accuracy: 0.8240\n",
      "Epoch 19/100\n",
      "24/24 [==============================] - 0s 334us/step - loss: 0.4997 - accuracy: 0.8347\n",
      "Epoch 20/100\n",
      "24/24 [==============================] - 0s 334us/step - loss: 0.4885 - accuracy: 0.8387\n",
      "Epoch 21/100\n",
      "24/24 [==============================] - 0s 292us/step - loss: 0.4777 - accuracy: 0.8493\n",
      "Epoch 22/100\n",
      "24/24 [==============================] - 0s 292us/step - loss: 0.4671 - accuracy: 0.8613\n",
      "Epoch 23/100\n",
      "24/24 [==============================] - 0s 292us/step - loss: 0.4566 - accuracy: 0.8680\n",
      "Epoch 24/100\n",
      "24/24 [==============================] - 0s 292us/step - loss: 0.4463 - accuracy: 0.8747\n",
      "Epoch 25/100\n",
      "24/24 [==============================] - 0s 292us/step - loss: 0.4364 - accuracy: 0.8773\n",
      "Epoch 26/100\n",
      "24/24 [==============================] - 0s 292us/step - loss: 0.4263 - accuracy: 0.8867\n",
      "Epoch 27/100\n",
      "24/24 [==============================] - 0s 292us/step - loss: 0.4166 - accuracy: 0.8880\n",
      "Epoch 28/100\n",
      "24/24 [==============================] - 0s 334us/step - loss: 0.4070 - accuracy: 0.8907\n",
      "Epoch 29/100\n",
      "24/24 [==============================] - 0s 292us/step - loss: 0.3979 - accuracy: 0.8920\n",
      "Epoch 30/100\n",
      "24/24 [==============================] - 0s 292us/step - loss: 0.3889 - accuracy: 0.8973\n",
      "Epoch 31/100\n",
      "24/24 [==============================] - 0s 292us/step - loss: 0.3800 - accuracy: 0.9013\n",
      "Epoch 32/100\n",
      "24/24 [==============================] - 0s 292us/step - loss: 0.3716 - accuracy: 0.9053\n",
      "Epoch 33/100\n",
      "24/24 [==============================] - 0s 334us/step - loss: 0.3633 - accuracy: 0.9133\n",
      "Epoch 34/100\n",
      "24/24 [==============================] - 0s 292us/step - loss: 0.3551 - accuracy: 0.9173\n",
      "Epoch 35/100\n",
      "24/24 [==============================] - 0s 334us/step - loss: 0.3471 - accuracy: 0.9227\n",
      "Epoch 36/100\n",
      "24/24 [==============================] - 0s 292us/step - loss: 0.3392 - accuracy: 0.9267\n",
      "Epoch 37/100\n",
      "24/24 [==============================] - 0s 334us/step - loss: 0.3315 - accuracy: 0.9293\n",
      "Epoch 38/100\n",
      "24/24 [==============================] - 0s 334us/step - loss: 0.3239 - accuracy: 0.9333\n",
      "Epoch 39/100\n",
      "24/24 [==============================] - 0s 292us/step - loss: 0.3165 - accuracy: 0.9400\n",
      "Epoch 40/100\n",
      "24/24 [==============================] - 0s 292us/step - loss: 0.3091 - accuracy: 0.9413\n",
      "Epoch 41/100\n",
      "24/24 [==============================] - 0s 292us/step - loss: 0.3017 - accuracy: 0.9427\n",
      "Epoch 42/100\n",
      "24/24 [==============================] - 0s 334us/step - loss: 0.2946 - accuracy: 0.9467\n",
      "Epoch 43/100\n",
      "24/24 [==============================] - 0s 292us/step - loss: 0.2874 - accuracy: 0.9493\n",
      "Epoch 44/100\n",
      "24/24 [==============================] - 0s 292us/step - loss: 0.2803 - accuracy: 0.9507\n",
      "Epoch 45/100\n",
      "24/24 [==============================] - 0s 334us/step - loss: 0.2735 - accuracy: 0.9533\n",
      "Epoch 46/100\n",
      "24/24 [==============================] - 0s 334us/step - loss: 0.2669 - accuracy: 0.9533\n",
      "Epoch 47/100\n",
      "24/24 [==============================] - 0s 292us/step - loss: 0.2604 - accuracy: 0.9547\n",
      "Epoch 48/100\n",
      "24/24 [==============================] - 0s 292us/step - loss: 0.2542 - accuracy: 0.9573\n",
      "Epoch 49/100\n",
      "24/24 [==============================] - 0s 292us/step - loss: 0.2480 - accuracy: 0.9613\n",
      "Epoch 50/100\n",
      "24/24 [==============================] - 0s 334us/step - loss: 0.2421 - accuracy: 0.9627\n",
      "Epoch 51/100\n",
      "24/24 [==============================] - 0s 292us/step - loss: 0.2362 - accuracy: 0.9640\n",
      "Epoch 52/100\n",
      "24/24 [==============================] - 0s 334us/step - loss: 0.2306 - accuracy: 0.9667\n",
      "Epoch 53/100\n",
      "24/24 [==============================] - 0s 334us/step - loss: 0.2252 - accuracy: 0.9680\n",
      "Epoch 54/100\n",
      "24/24 [==============================] - 0s 334us/step - loss: 0.2199 - accuracy: 0.9693\n",
      "Epoch 55/100\n",
      "24/24 [==============================] - 0s 292us/step - loss: 0.2148 - accuracy: 0.9707\n",
      "Epoch 56/100\n",
      "24/24 [==============================] - 0s 292us/step - loss: 0.2098 - accuracy: 0.9747\n",
      "Epoch 57/100\n",
      "24/24 [==============================] - 0s 292us/step - loss: 0.2049 - accuracy: 0.9773\n",
      "Epoch 58/100\n",
      "24/24 [==============================] - 0s 292us/step - loss: 0.2001 - accuracy: 0.9773\n",
      "Epoch 59/100\n",
      "24/24 [==============================] - 0s 334us/step - loss: 0.1953 - accuracy: 0.9800\n",
      "Epoch 60/100\n",
      "24/24 [==============================] - 0s 292us/step - loss: 0.1907 - accuracy: 0.9813\n",
      "Epoch 61/100\n",
      "24/24 [==============================] - 0s 292us/step - loss: 0.1863 - accuracy: 0.9813\n",
      "Epoch 62/100\n",
      "24/24 [==============================] - 0s 292us/step - loss: 0.1820 - accuracy: 0.9827\n",
      "Epoch 63/100\n",
      "24/24 [==============================] - 0s 334us/step - loss: 0.1778 - accuracy: 0.9827\n",
      "Epoch 64/100\n",
      "24/24 [==============================] - 0s 292us/step - loss: 0.1736 - accuracy: 0.9853\n",
      "Epoch 65/100\n",
      "24/24 [==============================] - 0s 292us/step - loss: 0.1695 - accuracy: 0.9853\n",
      "Epoch 66/100\n",
      "24/24 [==============================] - 0s 292us/step - loss: 0.1655 - accuracy: 0.9853\n",
      "Epoch 67/100\n",
      "24/24 [==============================] - 0s 334us/step - loss: 0.1617 - accuracy: 0.9853\n",
      "Epoch 68/100\n",
      "24/24 [==============================] - 0s 292us/step - loss: 0.1579 - accuracy: 0.9867\n",
      "Epoch 69/100\n",
      "24/24 [==============================] - 0s 292us/step - loss: 0.1543 - accuracy: 0.9867\n",
      "Epoch 70/100\n",
      "24/24 [==============================] - 0s 334us/step - loss: 0.1507 - accuracy: 0.9880\n",
      "Epoch 71/100\n",
      "24/24 [==============================] - 0s 292us/step - loss: 0.1473 - accuracy: 0.9880\n",
      "Epoch 72/100\n",
      "24/24 [==============================] - 0s 334us/step - loss: 0.1441 - accuracy: 0.9880\n",
      "Epoch 73/100\n",
      "24/24 [==============================] - 0s 292us/step - loss: 0.1409 - accuracy: 0.9880\n",
      "Epoch 74/100\n",
      "24/24 [==============================] - 0s 292us/step - loss: 0.1378 - accuracy: 0.9893\n",
      "Epoch 75/100\n",
      "24/24 [==============================] - 0s 292us/step - loss: 0.1348 - accuracy: 0.9907\n",
      "Epoch 76/100\n",
      "24/24 [==============================] - 0s 334us/step - loss: 0.1319 - accuracy: 0.9907\n",
      "Epoch 77/100\n",
      "24/24 [==============================] - 0s 292us/step - loss: 0.1291 - accuracy: 0.9920\n",
      "Epoch 78/100\n"
     ]
    },
    {
     "name": "stdout",
     "output_type": "stream",
     "text": [
      "24/24 [==============================] - 0s 334us/step - loss: 0.1264 - accuracy: 0.9920\n",
      "Epoch 79/100\n",
      "24/24 [==============================] - 0s 292us/step - loss: 0.1237 - accuracy: 0.9920\n",
      "Epoch 80/100\n",
      "24/24 [==============================] - 0s 292us/step - loss: 0.1212 - accuracy: 0.9933\n",
      "Epoch 81/100\n",
      "24/24 [==============================] - 0s 334us/step - loss: 0.1187 - accuracy: 0.9933\n",
      "Epoch 82/100\n",
      "24/24 [==============================] - 0s 292us/step - loss: 0.1162 - accuracy: 0.9947\n",
      "Epoch 83/100\n",
      "24/24 [==============================] - 0s 292us/step - loss: 0.1139 - accuracy: 0.9947\n",
      "Epoch 84/100\n",
      "24/24 [==============================] - 0s 292us/step - loss: 0.1116 - accuracy: 0.9960\n",
      "Epoch 85/100\n",
      "24/24 [==============================] - 0s 292us/step - loss: 0.1094 - accuracy: 0.9973\n",
      "Epoch 86/100\n",
      "24/24 [==============================] - 0s 300us/step - loss: 0.1073 - accuracy: 0.9973\n",
      "Epoch 87/100\n",
      "24/24 [==============================] - 0s 300us/step - loss: 0.1052 - accuracy: 0.9973\n",
      "Epoch 88/100\n",
      "24/24 [==============================] - 0s 292us/step - loss: 0.1031 - accuracy: 0.9973\n",
      "Epoch 89/100\n",
      "24/24 [==============================] - 0s 292us/step - loss: 0.1012 - accuracy: 0.9973\n",
      "Epoch 90/100\n",
      "24/24 [==============================] - 0s 334us/step - loss: 0.0992 - accuracy: 0.9987\n",
      "Epoch 91/100\n",
      "24/24 [==============================] - 0s 292us/step - loss: 0.0974 - accuracy: 0.9987\n",
      "Epoch 92/100\n",
      "24/24 [==============================] - 0s 292us/step - loss: 0.0956 - accuracy: 1.0000\n",
      "Epoch 93/100\n",
      "24/24 [==============================] - 0s 292us/step - loss: 0.0938 - accuracy: 1.0000\n",
      "Epoch 94/100\n",
      "24/24 [==============================] - 0s 292us/step - loss: 0.0921 - accuracy: 1.0000\n",
      "Epoch 95/100\n",
      "24/24 [==============================] - 0s 292us/step - loss: 0.0904 - accuracy: 1.0000\n",
      "Epoch 96/100\n",
      "24/24 [==============================] - 0s 292us/step - loss: 0.0888 - accuracy: 1.0000\n",
      "Epoch 97/100\n",
      "24/24 [==============================] - 0s 334us/step - loss: 0.0872 - accuracy: 1.0000\n",
      "Epoch 98/100\n",
      "24/24 [==============================] - 0s 292us/step - loss: 0.0856 - accuracy: 1.0000\n",
      "Epoch 99/100\n",
      "24/24 [==============================] - 0s 334us/step - loss: 0.0842 - accuracy: 1.0000\n",
      "Epoch 100/100\n",
      "24/24 [==============================] - 0s 375us/step - loss: 0.0827 - accuracy: 1.0000\n"
     ]
    }
   ],
   "source": [
    "# Fit the model to the training data\n",
    "fit_model = nn_model.fit(X_train_scaled, y_train, epochs=100)"
   ]
  },
  {
   "cell_type": "code",
   "execution_count": 11,
   "id": "683d5354",
   "metadata": {},
   "outputs": [
    {
     "data": {
      "text/plain": [
       "<AxesSubplot:>"
      ]
     },
     "execution_count": 11,
     "metadata": {},
     "output_type": "execute_result"
    },
    {
     "data": {
      "image/png": "[encoded data removed]",
      "text/plain": [
       "<Figure size 432x288 with 1 Axes>"
      ]
     },
     "metadata": {
      "needs_background": "light"
     },
     "output_type": "display_data"
    }
   ],
   "source": [
    "# Create a DataFrame containing training history\n",
    "history_df = pd.DataFrame(fit_model.history, index=range(1,len(fit_model.history[\"loss\"])+1))\n",
    "\n",
    "# Plot the loss\n",
    "history_df.plot(y=\"loss\")"
   ]
  },
  {
   "cell_type": "code",
   "execution_count": 12,
   "id": "ee2846e4",
   "metadata": {},
   "outputs": [
    {
     "data": {
      "text/plain": [
       "<AxesSubplot:>"
      ]
     },
     "execution_count": 12,
     "metadata": {},
     "output_type": "execute_result"
    },
    {
     "data": {
      "image/png": "[encoded data removed]",
      "text/plain": [
       "<Figure size 432x288 with 1 Axes>"
      ]
     },
     "metadata": {
      "needs_background": "light"
     },
     "output_type": "display_data"
    }
   ],
   "source": [
    "# Plot the accuracy\n",
    "history_df.plot(y=\"accuracy\")"
   ]
  },
  {
   "cell_type": "code",
   "execution_count": 13,
   "id": "4952e3b1",
   "metadata": {},
   "outputs": [
    {
     "name": "stdout",
     "output_type": "stream",
     "text": [
      "8/8 - 0s - loss: 0.0764 - accuracy: 1.0000\n",
      "Loss: 0.07637935131788254, Accuracy: 1.0\n"
     ]
    }
   ],
   "source": [
    "# Evaluate the model using the test data\n",
    "model_loss, model_accuracy = nn_model.evaluate(X_test_scaled,y_test,verbose=2)\n",
    "print(f\"Loss: {model_loss}, Accuracy: {model_accuracy}\")"
   ]
  },
  {
   "cell_type": "code",
   "execution_count": 14,
   "id": "c9a7bb1d",
   "metadata": {},
   "outputs": [
    {
     "data": {
      "text/plain": [
       "array([[0],\n",
       "       [1],\n",
       "       [0],\n",
       "       [1],\n",
       "       [0],\n",
       "       [0],\n",
       "       [1],\n",
       "       [1],\n",
       "       [1],\n",
       "       [0]])"
      ]
     },
     "execution_count": 14,
     "metadata": {},
     "output_type": "execute_result"
    }
   ],
   "source": [
    "# Predict the classification of a new set of blob data\n",
    "new_X, new_Y = make_blobs(n_samples=10, centers=2, n_features=2, random_state=78)\n",
    "new_X_scaled = X_scaler.transform(new_X)\n",
    "(nn_model.predict(new_X_scaled) > 0.5).astype(\"int32\")"
   ]
  },
  {
   "cell_type": "code",
   "execution_count": 15,
   "id": "71bc4726",
   "metadata": {},
   "outputs": [
    {
     "data": {
      "text/plain": [
       "<AxesSubplot:xlabel='Feature 1', ylabel='Feature 2'>"
      ]
     },
     "execution_count": 15,
     "metadata": {},
     "output_type": "execute_result"
    },
    {
     "data": {
      "image/png": "[encoded data removed]",
      "text/plain": [
       "<Figure size 432x288 with 2 Axes>"
      ]
     },
     "metadata": {
      "needs_background": "light"
     },
     "output_type": "display_data"
    }
   ],
   "source": [
    "from sklearn.datasets import make_moons\n",
    "\n",
    "# Creating dummy nonlinear data\n",
    "X_moons, y_moons = make_moons(n_samples=1000, noise=0.08, random_state=78)\n",
    "\n",
    "# Transforming y_moons to a vertical vector\n",
    "y_moons = y_moons.reshape(-1, 1)\n",
    "\n",
    "# Creating a DataFrame to plot the nonlinear dummy data\n",
    "df_moons = pd.DataFrame(X_moons, columns=[\"Feature 1\", \"Feature 2\"])\n",
    "df_moons[\"Target\"] = y_moons\n",
    "\n",
    "# Plot the nonlinear dummy data\n",
    "df_moons.plot.scatter(x=\"Feature 1\",y=\"Feature 2\", c=\"Target\",colormap=\"winter\")"
   ]
  },
  {
   "cell_type": "code",
   "execution_count": 16,
   "id": "544feb5b",
   "metadata": {},
   "outputs": [],
   "source": [
    "# Create training and testing sets\n",
    "X_moon_train, X_moon_test, y_moon_train, y_moon_test = train_test_split(X_moons, y_moons, random_state=78)\n",
    "\n",
    "# Create the scaler instance\n",
    "X_moon_scaler = skl.preprocessing.StandardScaler()\n",
    "\n",
    "# Fit the scaler\n",
    "X_moon_scaler.fit(X_moon_train)\n",
    "\n",
    "# Scale the data\n",
    "X_moon_train_scaled = X_moon_scaler.transform(X_moon_train)\n",
    "X_moon_test_scaled = X_moon_scaler.transform(X_moon_test)"
   ]
  },
  {
   "cell_type": "code",
   "execution_count": 17,
   "id": "0d27b772",
   "metadata": {},
   "outputs": [
    {
     "name": "stdout",
     "output_type": "stream",
     "text": [
      "Epoch 1/100\n",
      "24/24 [==============================] - 0s 459us/step - loss: 1.2784 - accuracy: 0.3893\n",
      "Epoch 2/100\n",
      "24/24 [==============================] - 0s 459us/step - loss: 1.0760 - accuracy: 0.4387\n",
      "Epoch 3/100\n",
      "24/24 [==============================] - 0s 459us/step - loss: 0.9494 - accuracy: 0.4747\n",
      "Epoch 4/100\n",
      "24/24 [==============================] - 0s 459us/step - loss: 0.8708 - accuracy: 0.5013\n",
      "Epoch 5/100\n",
      "24/24 [==============================] - 0s 459us/step - loss: 0.8125 - accuracy: 0.5360\n",
      "Epoch 6/100\n",
      "24/24 [==============================] - 0s 459us/step - loss: 0.7683 - accuracy: 0.5613\n",
      "Epoch 7/100\n",
      "24/24 [==============================] - 0s 417us/step - loss: 0.7312 - accuracy: 0.5813\n",
      "Epoch 8/100\n",
      "24/24 [==============================] - 0s 417us/step - loss: 0.7000 - accuracy: 0.6053\n",
      "Epoch 9/100\n",
      "24/24 [==============================] - 0s 459us/step - loss: 0.6728 - accuracy: 0.6133\n",
      "Epoch 10/100\n",
      "24/24 [==============================] - 0s 459us/step - loss: 0.6496 - accuracy: 0.6293\n",
      "Epoch 11/100\n",
      "24/24 [==============================] - 0s 459us/step - loss: 0.6283 - accuracy: 0.6413\n",
      "Epoch 12/100\n",
      "24/24 [==============================] - 0s 459us/step - loss: 0.6094 - accuracy: 0.6467\n",
      "Epoch 13/100\n",
      "24/24 [==============================] - 0s 459us/step - loss: 0.5924 - accuracy: 0.6573\n",
      "Epoch 14/100\n",
      "24/24 [==============================] - 0s 459us/step - loss: 0.5763 - accuracy: 0.6693\n",
      "Epoch 15/100\n",
      "24/24 [==============================] - 0s 459us/step - loss: 0.5615 - accuracy: 0.6787\n",
      "Epoch 16/100\n",
      "24/24 [==============================] - 0s 459us/step - loss: 0.5466 - accuracy: 0.6907\n",
      "Epoch 17/100\n",
      "24/24 [==============================] - 0s 459us/step - loss: 0.5328 - accuracy: 0.7080\n",
      "Epoch 18/100\n",
      "24/24 [==============================] - 0s 459us/step - loss: 0.5195 - accuracy: 0.7187\n",
      "Epoch 19/100\n",
      "24/24 [==============================] - 0s 459us/step - loss: 0.5061 - accuracy: 0.7227\n",
      "Epoch 20/100\n",
      "24/24 [==============================] - 0s 417us/step - loss: 0.4934 - accuracy: 0.7280\n",
      "Epoch 21/100\n",
      "24/24 [==============================] - 0s 417us/step - loss: 0.4816 - accuracy: 0.7320\n",
      "Epoch 22/100\n",
      "24/24 [==============================] - 0s 417us/step - loss: 0.4698 - accuracy: 0.7400\n",
      "Epoch 23/100\n",
      "24/24 [==============================] - 0s 417us/step - loss: 0.4584 - accuracy: 0.7453\n",
      "Epoch 24/100\n",
      "24/24 [==============================] - 0s 417us/step - loss: 0.4478 - accuracy: 0.7520\n",
      "Epoch 25/100\n",
      "24/24 [==============================] - 0s 459us/step - loss: 0.4378 - accuracy: 0.7613\n",
      "Epoch 26/100\n",
      "24/24 [==============================] - 0s 459us/step - loss: 0.4280 - accuracy: 0.7653\n",
      "Epoch 27/100\n",
      "24/24 [==============================] - 0s 451us/step - loss: 0.4184 - accuracy: 0.7680\n",
      "Epoch 28/100\n",
      "24/24 [==============================] - 0s 446us/step - loss: 0.4096 - accuracy: 0.7773\n",
      "Epoch 29/100\n",
      "24/24 [==============================] - 0s 459us/step - loss: 0.4007 - accuracy: 0.7853\n",
      "Epoch 30/100\n",
      "24/24 [==============================] - 0s 417us/step - loss: 0.3926 - accuracy: 0.7920\n",
      "Epoch 31/100\n",
      "24/24 [==============================] - 0s 459us/step - loss: 0.3846 - accuracy: 0.8000\n",
      "Epoch 32/100\n",
      "24/24 [==============================] - 0s 459us/step - loss: 0.3772 - accuracy: 0.8080\n",
      "Epoch 33/100\n",
      "24/24 [==============================] - 0s 417us/step - loss: 0.3699 - accuracy: 0.8120\n",
      "Epoch 34/100\n",
      "24/24 [==============================] - 0s 417us/step - loss: 0.3632 - accuracy: 0.8133\n",
      "Epoch 35/100\n",
      "24/24 [==============================] - 0s 459us/step - loss: 0.3567 - accuracy: 0.8160\n",
      "Epoch 36/100\n",
      "24/24 [==============================] - 0s 459us/step - loss: 0.3505 - accuracy: 0.8240\n",
      "Epoch 37/100\n",
      "24/24 [==============================] - 0s 500us/step - loss: 0.3447 - accuracy: 0.8280\n",
      "Epoch 38/100\n",
      "24/24 [==============================] - 0s 459us/step - loss: 0.3393 - accuracy: 0.8307\n",
      "Epoch 39/100\n",
      "24/24 [==============================] - 0s 459us/step - loss: 0.3344 - accuracy: 0.8373\n",
      "Epoch 40/100\n",
      "24/24 [==============================] - 0s 417us/step - loss: 0.3297 - accuracy: 0.8440\n",
      "Epoch 41/100\n",
      "24/24 [==============================] - 0s 417us/step - loss: 0.3257 - accuracy: 0.8467\n",
      "Epoch 42/100\n",
      "24/24 [==============================] - 0s 417us/step - loss: 0.3220 - accuracy: 0.8480\n",
      "Epoch 43/100\n",
      "24/24 [==============================] - 0s 459us/step - loss: 0.3186 - accuracy: 0.8507\n",
      "Epoch 44/100\n",
      "24/24 [==============================] - 0s 459us/step - loss: 0.3156 - accuracy: 0.8587\n",
      "Epoch 45/100\n",
      "24/24 [==============================] - 0s 417us/step - loss: 0.3129 - accuracy: 0.8627\n",
      "Epoch 46/100\n",
      "24/24 [==============================] - 0s 459us/step - loss: 0.3104 - accuracy: 0.8653\n",
      "Epoch 47/100\n",
      "24/24 [==============================] - 0s 459us/step - loss: 0.3081 - accuracy: 0.8667\n",
      "Epoch 48/100\n",
      "24/24 [==============================] - 0s 459us/step - loss: 0.3060 - accuracy: 0.8680\n",
      "Epoch 49/100\n",
      "24/24 [==============================] - 0s 417us/step - loss: 0.3040 - accuracy: 0.8680\n",
      "Epoch 50/100\n",
      "24/24 [==============================] - 0s 417us/step - loss: 0.3022 - accuracy: 0.8707\n",
      "Epoch 51/100\n",
      "24/24 [==============================] - 0s 500us/step - loss: 0.3004 - accuracy: 0.8707\n",
      "Epoch 52/100\n",
      "24/24 [==============================] - 0s 417us/step - loss: 0.2988 - accuracy: 0.8720\n",
      "Epoch 53/100\n",
      "24/24 [==============================] - 0s 500us/step - loss: 0.2973 - accuracy: 0.8707\n",
      "Epoch 54/100\n",
      "24/24 [==============================] - 0s 459us/step - loss: 0.2957 - accuracy: 0.8720\n",
      "Epoch 55/100\n",
      "24/24 [==============================] - 0s 417us/step - loss: 0.2944 - accuracy: 0.8733\n",
      "Epoch 56/100\n",
      "24/24 [==============================] - 0s 417us/step - loss: 0.2930 - accuracy: 0.8733\n",
      "Epoch 57/100\n",
      "24/24 [==============================] - 0s 459us/step - loss: 0.2918 - accuracy: 0.8733\n",
      "Epoch 58/100\n",
      "24/24 [==============================] - 0s 417us/step - loss: 0.2906 - accuracy: 0.8733\n",
      "Epoch 59/100\n",
      "24/24 [==============================] - 0s 417us/step - loss: 0.2894 - accuracy: 0.8760\n",
      "Epoch 60/100\n",
      "24/24 [==============================] - 0s 417us/step - loss: 0.2883 - accuracy: 0.8813\n",
      "Epoch 61/100\n",
      "24/24 [==============================] - 0s 417us/step - loss: 0.2871 - accuracy: 0.8800\n",
      "Epoch 62/100\n",
      "24/24 [==============================] - 0s 417us/step - loss: 0.2861 - accuracy: 0.8813\n",
      "Epoch 63/100\n",
      "24/24 [==============================] - 0s 459us/step - loss: 0.2852 - accuracy: 0.8813\n",
      "Epoch 64/100\n",
      "24/24 [==============================] - 0s 417us/step - loss: 0.2841 - accuracy: 0.8840\n",
      "Epoch 65/100\n",
      "24/24 [==============================] - 0s 417us/step - loss: 0.2831 - accuracy: 0.8853\n",
      "Epoch 66/100\n",
      "24/24 [==============================] - 0s 417us/step - loss: 0.2822 - accuracy: 0.8853\n",
      "Epoch 67/100\n",
      "24/24 [==============================] - 0s 417us/step - loss: 0.2814 - accuracy: 0.8867\n",
      "Epoch 68/100\n",
      "24/24 [==============================] - 0s 459us/step - loss: 0.2805 - accuracy: 0.8880\n",
      "Epoch 69/100\n",
      "24/24 [==============================] - 0s 417us/step - loss: 0.2798 - accuracy: 0.8880\n",
      "Epoch 70/100\n",
      "24/24 [==============================] - 0s 459us/step - loss: 0.2789 - accuracy: 0.8893\n",
      "Epoch 71/100\n",
      "24/24 [==============================] - 0s 417us/step - loss: 0.2782 - accuracy: 0.8907\n",
      "Epoch 72/100\n",
      "24/24 [==============================] - 0s 459us/step - loss: 0.2775 - accuracy: 0.8920\n",
      "Epoch 73/100\n",
      "24/24 [==============================] - 0s 417us/step - loss: 0.2768 - accuracy: 0.8920\n",
      "Epoch 74/100\n",
      "24/24 [==============================] - 0s 459us/step - loss: 0.2762 - accuracy: 0.8920\n",
      "Epoch 75/100\n",
      "24/24 [==============================] - 0s 417us/step - loss: 0.2754 - accuracy: 0.8920\n",
      "Epoch 76/100\n",
      "24/24 [==============================] - 0s 459us/step - loss: 0.2748 - accuracy: 0.8933\n",
      "Epoch 77/100\n",
      "24/24 [==============================] - 0s 459us/step - loss: 0.2742 - accuracy: 0.8933\n",
      "Epoch 78/100\n",
      "24/24 [==============================] - 0s 417us/step - loss: 0.2736 - accuracy: 0.8933\n",
      "Epoch 79/100\n",
      "24/24 [==============================] - 0s 417us/step - loss: 0.2730 - accuracy: 0.8933\n",
      "Epoch 80/100\n",
      "24/24 [==============================] - 0s 417us/step - loss: 0.2724 - accuracy: 0.8933\n",
      "Epoch 81/100\n"
     ]
    },
    {
     "name": "stdout",
     "output_type": "stream",
     "text": [
      "24/24 [==============================] - 0s 459us/step - loss: 0.2719 - accuracy: 0.8933\n",
      "Epoch 82/100\n",
      "24/24 [==============================] - 0s 417us/step - loss: 0.2713 - accuracy: 0.8933\n",
      "Epoch 83/100\n",
      "24/24 [==============================] - 0s 417us/step - loss: 0.2709 - accuracy: 0.8933\n",
      "Epoch 84/100\n",
      "24/24 [==============================] - 0s 459us/step - loss: 0.2703 - accuracy: 0.8933\n",
      "Epoch 85/100\n",
      "24/24 [==============================] - 0s 459us/step - loss: 0.2699 - accuracy: 0.8933\n",
      "Epoch 86/100\n",
      "24/24 [==============================] - 0s 417us/step - loss: 0.2694 - accuracy: 0.8933\n",
      "Epoch 87/100\n",
      "24/24 [==============================] - 0s 459us/step - loss: 0.2690 - accuracy: 0.8920\n",
      "Epoch 88/100\n",
      "24/24 [==============================] - 0s 459us/step - loss: 0.2685 - accuracy: 0.8920\n",
      "Epoch 89/100\n",
      "24/24 [==============================] - 0s 417us/step - loss: 0.2681 - accuracy: 0.8920\n",
      "Epoch 90/100\n",
      "24/24 [==============================] - 0s 417us/step - loss: 0.2676 - accuracy: 0.8920\n",
      "Epoch 91/100\n",
      "24/24 [==============================] - 0s 459us/step - loss: 0.2672 - accuracy: 0.8920\n",
      "Epoch 92/100\n",
      "24/24 [==============================] - 0s 459us/step - loss: 0.2669 - accuracy: 0.8907\n",
      "Epoch 93/100\n",
      "24/24 [==============================] - 0s 459us/step - loss: 0.2664 - accuracy: 0.8907\n",
      "Epoch 94/100\n",
      "24/24 [==============================] - 0s 459us/step - loss: 0.2661 - accuracy: 0.8907\n",
      "Epoch 95/100\n",
      "24/24 [==============================] - 0s 459us/step - loss: 0.2658 - accuracy: 0.8907\n",
      "Epoch 96/100\n",
      "24/24 [==============================] - 0s 459us/step - loss: 0.2655 - accuracy: 0.8907\n",
      "Epoch 97/100\n",
      "24/24 [==============================] - 0s 417us/step - loss: 0.2651 - accuracy: 0.8907\n",
      "Epoch 98/100\n",
      "24/24 [==============================] - 0s 459us/step - loss: 0.2648 - accuracy: 0.8920\n",
      "Epoch 99/100\n",
      "24/24 [==============================] - 0s 417us/step - loss: 0.2644 - accuracy: 0.8920\n",
      "Epoch 100/100\n",
      "24/24 [==============================] - 0s 459us/step - loss: 0.2641 - accuracy: 0.8920\n"
     ]
    }
   ],
   "source": [
    "# Training the model with the nonlinear data\n",
    "model_moon = nn_model.fit(X_moon_train_scaled, y_moon_train, epochs=100, shuffle=True)"
   ]
  },
  {
   "cell_type": "code",
   "execution_count": 18,
   "id": "3b5a1b68",
   "metadata": {},
   "outputs": [
    {
     "data": {
      "text/plain": [
       "<AxesSubplot:>"
      ]
     },
     "execution_count": 18,
     "metadata": {},
     "output_type": "execute_result"
    },
    {
     "data": {
      "image/png": "[encoded data removed]",
      "text/plain": [
       "<Figure size 432x288 with 1 Axes>"
      ]
     },
     "metadata": {
      "needs_background": "light"
     },
     "output_type": "display_data"
    }
   ],
   "source": [
    "# Create a DataFrame containing training history\n",
    "history_df = pd.DataFrame(model_moon.history, index=range(1,len(model_moon.history[\"loss\"])+1))\n",
    "\n",
    "# Plot the loss\n",
    "history_df.plot(y=\"loss\")"
   ]
  },
  {
   "cell_type": "code",
   "execution_count": 19,
   "id": "efbd7a7e",
   "metadata": {},
   "outputs": [
    {
     "data": {
      "text/plain": [
       "<AxesSubplot:>"
      ]
     },
     "execution_count": 19,
     "metadata": {},
     "output_type": "execute_result"
    },
    {
     "data": {
      "image/png": "[encoded data removed]",
      "text/plain": [
       "<Figure size 432x288 with 1 Axes>"
      ]
     },
     "metadata": {
      "needs_background": "light"
     },
     "output_type": "display_data"
    }
   ],
   "source": [
    "# Plot the accuracy\n",
    "history_df.plot(y=\"accuracy\")"
   ]
  },
  {
   "cell_type": "code",
   "execution_count": 20,
   "id": "27b61347",
   "metadata": {},
   "outputs": [],
   "source": [
    "# Generate our new Sequential model\n",
    "new_model = tf.keras.models.Sequential()"
   ]
  },
  {
   "cell_type": "code",
   "execution_count": 21,
   "id": "f8de343b",
   "metadata": {},
   "outputs": [],
   "source": [
    "# Add the input and hidden layer\n",
    "number_inputs = 2\n",
    "number_hidden_nodes = 6\n",
    "\n",
    "new_model.add(tf.keras.layers.Dense(units=number_hidden_nodes, activation=\"relu\", input_dim=number_inputs))\n",
    "\n",
    "# Add the output layer that uses a probability activation function\n",
    "new_model.add(tf.keras.layers.Dense(units=1, activation=\"sigmoid\"))"
   ]
  },
  {
   "cell_type": "code",
   "execution_count": 22,
   "id": "5e1bbe3e",
   "metadata": {},
   "outputs": [
    {
     "name": "stdout",
     "output_type": "stream",
     "text": [
      "Epoch 1/100\n",
      "24/24 [==============================] - 0s 292us/step - loss: 0.8092 - accuracy: 0.4693\n",
      "Epoch 2/100\n",
      "24/24 [==============================] - 0s 292us/step - loss: 0.7595 - accuracy: 0.4693\n",
      "Epoch 3/100\n",
      "24/24 [==============================] - 0s 292us/step - loss: 0.7134 - accuracy: 0.4693\n",
      "Epoch 4/100\n",
      "24/24 [==============================] - 0s 334us/step - loss: 0.6699 - accuracy: 0.4693\n",
      "Epoch 5/100\n",
      "24/24 [==============================] - 0s 292us/step - loss: 0.6300 - accuracy: 0.4600\n",
      "Epoch 6/100\n",
      "24/24 [==============================] - 0s 292us/step - loss: 0.5931 - accuracy: 0.6147\n",
      "Epoch 7/100\n",
      "24/24 [==============================] - 0s 292us/step - loss: 0.5596 - accuracy: 0.7827\n",
      "Epoch 8/100\n",
      "24/24 [==============================] - 0s 292us/step - loss: 0.5283 - accuracy: 0.8213\n",
      "Epoch 9/100\n",
      "24/24 [==============================] - 0s 292us/step - loss: 0.5001 - accuracy: 0.8347\n",
      "Epoch 10/100\n",
      "24/24 [==============================] - 0s 292us/step - loss: 0.4745 - accuracy: 0.8467\n",
      "Epoch 11/100\n",
      "24/24 [==============================] - 0s 292us/step - loss: 0.4513 - accuracy: 0.8493\n",
      "Epoch 12/100\n",
      "24/24 [==============================] - 0s 292us/step - loss: 0.4305 - accuracy: 0.8587\n",
      "Epoch 13/100\n",
      "24/24 [==============================] - 0s 292us/step - loss: 0.4117 - accuracy: 0.8613\n",
      "Epoch 14/100\n",
      "24/24 [==============================] - 0s 292us/step - loss: 0.3948 - accuracy: 0.8680\n",
      "Epoch 15/100\n",
      "24/24 [==============================] - 0s 292us/step - loss: 0.3797 - accuracy: 0.8747\n",
      "Epoch 16/100\n",
      "24/24 [==============================] - 0s 292us/step - loss: 0.3663 - accuracy: 0.8787\n",
      "Epoch 17/100\n",
      "24/24 [==============================] - 0s 292us/step - loss: 0.3542 - accuracy: 0.8827\n",
      "Epoch 18/100\n",
      "24/24 [==============================] - 0s 292us/step - loss: 0.3436 - accuracy: 0.8853\n",
      "Epoch 19/100\n",
      "24/24 [==============================] - 0s 292us/step - loss: 0.3339 - accuracy: 0.8853\n",
      "Epoch 20/100\n",
      "24/24 [==============================] - 0s 292us/step - loss: 0.3254 - accuracy: 0.8893\n",
      "Epoch 21/100\n",
      "24/24 [==============================] - 0s 292us/step - loss: 0.3174 - accuracy: 0.8893\n",
      "Epoch 22/100\n",
      "24/24 [==============================] - 0s 292us/step - loss: 0.3105 - accuracy: 0.8893\n",
      "Epoch 23/100\n",
      "24/24 [==============================] - 0s 292us/step - loss: 0.3045 - accuracy: 0.8893\n",
      "Epoch 24/100\n",
      "24/24 [==============================] - 0s 292us/step - loss: 0.2987 - accuracy: 0.8920\n",
      "Epoch 25/100\n",
      "24/24 [==============================] - 0s 292us/step - loss: 0.2935 - accuracy: 0.8920\n",
      "Epoch 26/100\n",
      "24/24 [==============================] - 0s 292us/step - loss: 0.2889 - accuracy: 0.8947\n",
      "Epoch 27/100\n",
      "24/24 [==============================] - 0s 292us/step - loss: 0.2848 - accuracy: 0.8947\n",
      "Epoch 28/100\n",
      "24/24 [==============================] - 0s 292us/step - loss: 0.2813 - accuracy: 0.8947\n",
      "Epoch 29/100\n",
      "24/24 [==============================] - 0s 292us/step - loss: 0.2778 - accuracy: 0.8987\n",
      "Epoch 30/100\n",
      "24/24 [==============================] - 0s 292us/step - loss: 0.2747 - accuracy: 0.8960\n",
      "Epoch 31/100\n",
      "24/24 [==============================] - 0s 292us/step - loss: 0.2718 - accuracy: 0.8960\n",
      "Epoch 32/100\n",
      "24/24 [==============================] - 0s 292us/step - loss: 0.2693 - accuracy: 0.8960\n",
      "Epoch 33/100\n",
      "24/24 [==============================] - 0s 292us/step - loss: 0.2670 - accuracy: 0.8973\n",
      "Epoch 34/100\n",
      "24/24 [==============================] - 0s 292us/step - loss: 0.2650 - accuracy: 0.8973\n",
      "Epoch 35/100\n",
      "24/24 [==============================] - 0s 292us/step - loss: 0.2629 - accuracy: 0.8987\n",
      "Epoch 36/100\n",
      "24/24 [==============================] - 0s 292us/step - loss: 0.2614 - accuracy: 0.8973\n",
      "Epoch 37/100\n",
      "24/24 [==============================] - 0s 292us/step - loss: 0.2595 - accuracy: 0.8987\n",
      "Epoch 38/100\n",
      "24/24 [==============================] - 0s 292us/step - loss: 0.2581 - accuracy: 0.8987\n",
      "Epoch 39/100\n",
      "24/24 [==============================] - 0s 292us/step - loss: 0.2565 - accuracy: 0.9000\n",
      "Epoch 40/100\n",
      "24/24 [==============================] - 0s 292us/step - loss: 0.2551 - accuracy: 0.9000\n",
      "Epoch 41/100\n",
      "24/24 [==============================] - 0s 292us/step - loss: 0.2539 - accuracy: 0.9013\n",
      "Epoch 42/100\n",
      "24/24 [==============================] - 0s 292us/step - loss: 0.2527 - accuracy: 0.9013\n",
      "Epoch 43/100\n",
      "24/24 [==============================] - 0s 334us/step - loss: 0.2516 - accuracy: 0.9013\n",
      "Epoch 44/100\n",
      "24/24 [==============================] - 0s 292us/step - loss: 0.2506 - accuracy: 0.9027\n",
      "Epoch 45/100\n",
      "24/24 [==============================] - 0s 292us/step - loss: 0.2496 - accuracy: 0.9027\n",
      "Epoch 46/100\n",
      "24/24 [==============================] - 0s 292us/step - loss: 0.2487 - accuracy: 0.9027\n",
      "Epoch 47/100\n",
      "24/24 [==============================] - 0s 292us/step - loss: 0.2477 - accuracy: 0.9040\n",
      "Epoch 48/100\n",
      "24/24 [==============================] - 0s 292us/step - loss: 0.2469 - accuracy: 0.9053\n",
      "Epoch 49/100\n",
      "24/24 [==============================] - 0s 292us/step - loss: 0.2460 - accuracy: 0.9067\n",
      "Epoch 50/100\n",
      "24/24 [==============================] - 0s 292us/step - loss: 0.2453 - accuracy: 0.9067\n",
      "Epoch 51/100\n",
      "24/24 [==============================] - 0s 292us/step - loss: 0.2445 - accuracy: 0.9067\n",
      "Epoch 52/100\n",
      "24/24 [==============================] - 0s 250us/step - loss: 0.2438 - accuracy: 0.9067\n",
      "Epoch 53/100\n",
      "24/24 [==============================] - 0s 292us/step - loss: 0.2431 - accuracy: 0.9067\n",
      "Epoch 54/100\n",
      "24/24 [==============================] - 0s 292us/step - loss: 0.2423 - accuracy: 0.9067\n",
      "Epoch 55/100\n",
      "24/24 [==============================] - 0s 292us/step - loss: 0.2417 - accuracy: 0.9067\n",
      "Epoch 56/100\n",
      "24/24 [==============================] - 0s 292us/step - loss: 0.2411 - accuracy: 0.9053\n",
      "Epoch 57/100\n",
      "24/24 [==============================] - 0s 292us/step - loss: 0.2405 - accuracy: 0.9053\n",
      "Epoch 58/100\n",
      "24/24 [==============================] - 0s 292us/step - loss: 0.2398 - accuracy: 0.9040\n",
      "Epoch 59/100\n",
      "24/24 [==============================] - 0s 292us/step - loss: 0.2392 - accuracy: 0.9040\n",
      "Epoch 60/100\n",
      "24/24 [==============================] - 0s 292us/step - loss: 0.2386 - accuracy: 0.9053\n",
      "Epoch 61/100\n",
      "24/24 [==============================] - 0s 292us/step - loss: 0.2381 - accuracy: 0.9053\n",
      "Epoch 62/100\n",
      "24/24 [==============================] - 0s 292us/step - loss: 0.2374 - accuracy: 0.9053\n",
      "Epoch 63/100\n",
      "24/24 [==============================] - 0s 292us/step - loss: 0.2368 - accuracy: 0.9053\n",
      "Epoch 64/100\n",
      "24/24 [==============================] - 0s 334us/step - loss: 0.2362 - accuracy: 0.9053\n",
      "Epoch 65/100\n",
      "24/24 [==============================] - 0s 334us/step - loss: 0.2357 - accuracy: 0.9053\n",
      "Epoch 66/100\n",
      "24/24 [==============================] - 0s 292us/step - loss: 0.2350 - accuracy: 0.9053\n",
      "Epoch 67/100\n",
      "24/24 [==============================] - 0s 334us/step - loss: 0.2346 - accuracy: 0.9053\n",
      "Epoch 68/100\n",
      "24/24 [==============================] - 0s 292us/step - loss: 0.2339 - accuracy: 0.9053\n",
      "Epoch 69/100\n",
      "24/24 [==============================] - 0s 292us/step - loss: 0.2334 - accuracy: 0.9053\n",
      "Epoch 70/100\n",
      "24/24 [==============================] - 0s 292us/step - loss: 0.2329 - accuracy: 0.9053\n",
      "Epoch 71/100\n",
      "24/24 [==============================] - 0s 292us/step - loss: 0.2323 - accuracy: 0.9080\n",
      "Epoch 72/100\n",
      "24/24 [==============================] - 0s 292us/step - loss: 0.2318 - accuracy: 0.9080\n",
      "Epoch 73/100\n",
      "24/24 [==============================] - 0s 250us/step - loss: 0.2312 - accuracy: 0.9080\n",
      "Epoch 74/100\n",
      "24/24 [==============================] - 0s 292us/step - loss: 0.2307 - accuracy: 0.9080\n",
      "Epoch 75/100\n",
      "24/24 [==============================] - 0s 292us/step - loss: 0.2302 - accuracy: 0.9067\n",
      "Epoch 76/100\n",
      "24/24 [==============================] - 0s 292us/step - loss: 0.2297 - accuracy: 0.9067\n",
      "Epoch 77/100\n",
      "24/24 [==============================] - 0s 292us/step - loss: 0.2291 - accuracy: 0.9067\n",
      "Epoch 78/100\n",
      "24/24 [==============================] - 0s 292us/step - loss: 0.2286 - accuracy: 0.9080\n",
      "Epoch 79/100\n",
      "24/24 [==============================] - 0s 334us/step - loss: 0.2281 - accuracy: 0.9080\n",
      "Epoch 80/100\n",
      "24/24 [==============================] - 0s 292us/step - loss: 0.2276 - accuracy: 0.9080\n",
      "Epoch 81/100\n"
     ]
    },
    {
     "name": "stdout",
     "output_type": "stream",
     "text": [
      "24/24 [==============================] - 0s 292us/step - loss: 0.2270 - accuracy: 0.9067\n",
      "Epoch 82/100\n",
      "24/24 [==============================] - 0s 292us/step - loss: 0.2266 - accuracy: 0.9067\n",
      "Epoch 83/100\n",
      "24/24 [==============================] - 0s 292us/step - loss: 0.2261 - accuracy: 0.9080\n",
      "Epoch 84/100\n",
      "24/24 [==============================] - 0s 292us/step - loss: 0.2256 - accuracy: 0.9080\n",
      "Epoch 85/100\n",
      "24/24 [==============================] - 0s 292us/step - loss: 0.2252 - accuracy: 0.9067\n",
      "Epoch 86/100\n",
      "24/24 [==============================] - 0s 292us/step - loss: 0.2248 - accuracy: 0.9067\n",
      "Epoch 87/100\n",
      "24/24 [==============================] - 0s 292us/step - loss: 0.2242 - accuracy: 0.9080\n",
      "Epoch 88/100\n",
      "24/24 [==============================] - 0s 292us/step - loss: 0.2238 - accuracy: 0.9080\n",
      "Epoch 89/100\n",
      "24/24 [==============================] - 0s 292us/step - loss: 0.2234 - accuracy: 0.9080\n",
      "Epoch 90/100\n",
      "24/24 [==============================] - 0s 292us/step - loss: 0.2229 - accuracy: 0.9080\n",
      "Epoch 91/100\n",
      "24/24 [==============================] - 0s 292us/step - loss: 0.2226 - accuracy: 0.9067\n",
      "Epoch 92/100\n",
      "24/24 [==============================] - 0s 292us/step - loss: 0.2222 - accuracy: 0.9053\n",
      "Epoch 93/100\n",
      "24/24 [==============================] - 0s 326us/step - loss: 0.2216 - accuracy: 0.9067\n",
      "Epoch 94/100\n",
      "24/24 [==============================] - 0s 299us/step - loss: 0.2212 - accuracy: 0.9053\n",
      "Epoch 95/100\n",
      "24/24 [==============================] - 0s 252us/step - loss: 0.2208 - accuracy: 0.9053\n",
      "Epoch 96/100\n",
      "24/24 [==============================] - 0s 292us/step - loss: 0.2204 - accuracy: 0.9053\n",
      "Epoch 97/100\n",
      "24/24 [==============================] - 0s 250us/step - loss: 0.2201 - accuracy: 0.9053\n",
      "Epoch 98/100\n",
      "24/24 [==============================] - 0s 292us/step - loss: 0.2197 - accuracy: 0.9040\n",
      "Epoch 99/100\n",
      "24/24 [==============================] - 0s 334us/step - loss: 0.2193 - accuracy: 0.9040\n",
      "Epoch 100/100\n",
      "24/24 [==============================] - 0s 292us/step - loss: 0.2190 - accuracy: 0.9053\n"
     ]
    }
   ],
   "source": [
    "# Compile the Sequential model together and customize metrics\n",
    "new_model.compile(loss=\"binary_crossentropy\", optimizer=\"adam\", metrics=[\"accuracy\"])\n",
    "\n",
    "# Fit the model to the training data\n",
    "new_fit_model = new_model.fit(X_moon_train_scaled, y_moon_train, epochs=100, shuffle=True)"
   ]
  },
  {
   "cell_type": "code",
   "execution_count": 23,
   "id": "10a506c5",
   "metadata": {},
   "outputs": [
    {
     "data": {
      "text/plain": [
       "<AxesSubplot:>"
      ]
     },
     "execution_count": 23,
     "metadata": {},
     "output_type": "execute_result"
    },
    {
     "data": {
      "image/png": "[encoded data removed]",
      "text/plain": [
       "<Figure size 432x288 with 1 Axes>"
      ]
     },
     "metadata": {
      "needs_background": "light"
     },
     "output_type": "display_data"
    }
   ],
   "source": [
    "# Create a DataFrame containing training history\n",
    "history_df = pd.DataFrame(new_fit_model.history, index=range(1,len(new_fit_model.history[\"loss\"])+1))\n",
    "\n",
    "# Plot the loss\n",
    "history_df.plot(y=\"loss\")"
   ]
  },
  {
   "cell_type": "code",
   "execution_count": 24,
   "id": "6e1d1d83",
   "metadata": {},
   "outputs": [
    {
     "data": {
      "text/plain": [
       "<AxesSubplot:>"
      ]
     },
     "execution_count": 24,
     "metadata": {},
     "output_type": "execute_result"
    },
    {
     "data": {
      "image/png": "[encoded data removed]",
      "text/plain": [
       "<Figure size 432x288 with 1 Axes>"
      ]
     },
     "metadata": {
      "needs_background": "light"
     },
     "output_type": "display_data"
    }
   ],
   "source": [
    "# Plot the accuracy\n",
    "history_df.plot(y=\"accuracy\")"
   ]
  },
  {
   "cell_type": "code",
   "execution_count": null,
   "id": "58b91ddf",
   "metadata": {},
   "outputs": [],
   "source": []
  }
 ],
 "metadata": {
  "kernelspec": {
   "display_name": "mlenv",
   "language": "python",
   "name": "mlenv"
  },
  "language_info": {
   "codemirror_mode": {
    "name": "ipython",
    "version": 3
   },
   "file_extension": ".py",
   "mimetype": "text/x-python",
   "name": "python",
   "nbconvert_exporter": "python",
   "pygments_lexer": "ipython3",
   "version": "3.7.13"
  }
 },
 "nbformat": 4,
 "nbformat_minor": 5
}
